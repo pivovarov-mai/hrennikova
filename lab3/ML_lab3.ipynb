{
  "nbformat": 4,
  "nbformat_minor": 0,
  "metadata": {
    "colab": {
      "name": "Untitled6.ipynb",
      "provenance": [],
      "collapsed_sections": []
    },
    "kernelspec": {
      "name": "python3",
      "display_name": "Python 3"
    },
    "language_info": {
      "name": "python"
    }
  },
  "cells": [
    {
      "cell_type": "markdown",
      "source": [
        "# Лабораторная работа №3\n",
        "# по численным методам\n",
        "## Выполнила: Хренникова Ангелина \n",
        "## Группа: М8О-308Б-19\n",
        "### Вариант: 20"
      ],
      "metadata": {
        "id": "-CShJ4hW1tJy"
      }
    },
    {
      "cell_type": "markdown",
      "source": [
        "Задание: Используя таблицу значений Yi функции y=f(x), вычисленных в точках Xi, i=0,...,3 построить интерполяционные многочлены Лагранжа и Ньютона, проходящие через точки {Xi, Yi}.  Вычислить значение погрешности интерполяции в точке X*."
      ],
      "metadata": {
        "id": "KWFEdSaq1_K4"
      }
    },
    {
      "cell_type": "code",
      "source": [
        "from sys import stdin\n",
        "from copy import deepcopy\n",
        "\n",
        "import numpy as np\n",
        "import copy\n",
        "import cmath\n",
        "import math\n",
        "import matplotlib.pyplot as plt"
      ],
      "metadata": {
        "id": "sgNG-8GHHYcK"
      },
      "execution_count": 1,
      "outputs": []
    },
    {
      "cell_type": "code",
      "source": [
        "class Matrix:\n",
        "    \n",
        "    #Инициализация матрицы\n",
        "    def __init__(self, matrix):\n",
        "        self.matrix = deepcopy(matrix)\n",
        "        self.size = self._Size()\n",
        "        \n",
        "    #Печать    \n",
        "    def __str__(self):\n",
        "        return '\\n'.join([''.join(['%f\\t' % i for i in row]) for\n",
        "                          row in self.matrix])\n",
        "    \n",
        "    #Доступ к элементу\n",
        "    def __getitem__(self, index):\n",
        "        return self.matrix[index]\n",
        "    \n",
        "    #Размер матрицы\n",
        "    def _Size(self):\n",
        "        rows = len(self.matrix)\n",
        "        cols = 0\n",
        "        for row in self.matrix:\n",
        "            if (type(row) == int) | (type(row) == float):\n",
        "                break\n",
        "            if len(row) > cols:\n",
        "                cols = len(row)\n",
        "        return (rows, cols)\n",
        "    \n",
        "    #ЛУП разложение с выбором максимального элемента\n",
        "    def Get_LUP(self):\n",
        "        if self.size[0] != self.size[1]:\n",
        "            raise Exception(\"Матрица должна быть квадратной\")\n",
        "            \n",
        "        n = self.size[0]\n",
        "        P = [i for i in range(n)]\n",
        "        mat = np.zeros((n, n), float)\n",
        "        LU = Matrix(mat)\n",
        "        \n",
        "        for i in range(n):\n",
        "            for j in range(n):\n",
        "                LU.matrix[i][j] = self.matrix[i][j]\n",
        "      \n",
        "        for k in range(n):\n",
        "            main_elem = 0\n",
        "            for i in range(k, n):\n",
        "                if (abs(self[i][k]) > main_elem):\n",
        "                    main_elem = abs(self[i][k])\n",
        "                    row = i\n",
        "            if (main_elem == 0):\n",
        "                raise Exception('Столбец нулевой')\n",
        "                \n",
        "            P[k], P[row] = P[row], P[k]\n",
        "\n",
        "            for i in range(n):\n",
        "                LU.matrix[k][i], LU.matrix[row][i] = LU.matrix[row][i], LU.matrix[k][i]\n",
        "            for i in range(k + 1, n):\n",
        "                LU.matrix[i][k] /= LU.matrix[k][k]\n",
        "                for j in range(k + 1, n):\n",
        "                    LU.matrix[i][j] -= LU.matrix[i][k] * LU.matrix[k][j]\n",
        "      \n",
        "        return LU, P, main_elem\n",
        "    \n",
        "    #ЛУ разложение\n",
        "    def Get_LU(self):\n",
        "        if self.size[0] != self.size[1]:\n",
        "            raise Exception(\"Матрица должна быть квадратной\")\n",
        "            \n",
        "        n = self.size[0]\n",
        "        \n",
        "        mat = np.zeros((n, n), float)\n",
        "        U = Matrix(mat)\n",
        "        L = Matrix(mat)\n",
        "        LU, P, p = self.Get_LUP()\n",
        "        \n",
        "        for i in range(n):\n",
        "            L.matrix[i][i] = 1\n",
        "            for j in range(n):\n",
        "                if (j < i):\n",
        "                    L.matrix[i][j] = LU.matrix[i][j]\n",
        "                else:\n",
        "                    U.matrix[i][j] = LU.matrix[i][j]\n",
        "                    \n",
        "        return L, U    "
      ],
      "metadata": {
        "id": "J3fTGM4k3xJq"
      },
      "execution_count": 2,
      "outputs": []
    },
    {
      "cell_type": "code",
      "source": [
        "def get_solution(A, b):\n",
        "    L, U = A.Get_LU()\n",
        "    LU, P, p = A.Get_LUP()\n",
        "\n",
        "    n = A.size[0]\n",
        "    x = [0] * n\n",
        "    y = [0] * n\n",
        "\n",
        "    #Ly = b\n",
        "    for i in range(n):\n",
        "        sum = 0\n",
        "        for j in range(i):\n",
        "            sum += L.matrix[i][j] * y[j]\n",
        " \n",
        "        y[i] = b[P[i]] - sum\n",
        "\n",
        "    #Ux = y\n",
        "    for i in range(n - 1, -1, -1):\n",
        "        sum = 0\n",
        "        for j in range(i + 1, n):\n",
        "            sum += U.matrix[i][j] * x[j]\n",
        " \n",
        "        x[i] = (y[i] - sum) / U.matrix[i][i]\n",
        "      \n",
        "    return x"
      ],
      "metadata": {
        "id": "Bnjq3BYeA518"
      },
      "execution_count": 3,
      "outputs": []
    },
    {
      "cell_type": "code",
      "execution_count": 4,
      "metadata": {
        "id": "0LqigzD61sTO"
      },
      "outputs": [],
      "source": [
        "def f(x):\n",
        "    return math.acos(x)+x"
      ]
    },
    {
      "cell_type": "code",
      "source": [
        "X_a = np.array([-0.4, -0.1, 0.2, 0.5])\n",
        "X_b = np.array([-0.4, 0, 0.2, 0.5])\n",
        "X = 0.1"
      ],
      "metadata": {
        "id": "rs1Rl789Hi3V"
      },
      "execution_count": 5,
      "outputs": []
    },
    {
      "cell_type": "code",
      "source": [
        "def omega(x, X):\n",
        "    w = 1\n",
        "    for i in range(len(X)):\n",
        "        w *= (x - X[i])\n",
        "    return w\n",
        "\n",
        "def omega_(x, X):\n",
        "    w = 1\n",
        "    for i in range(len(X)):\n",
        "        if X[i] != x:\n",
        "            w *= (x - X[i])\n",
        "    return w\n",
        "\n",
        "def L(x, X):\n",
        "    l = 0\n",
        "    for i in range(len(X)):\n",
        "        l += (f(X[i]) * omega(x, X)) / ((x - X[i]) * omega_(X[i], X))\n",
        "    return l"
      ],
      "metadata": {
        "id": "Suv4iKtQIsw9"
      },
      "execution_count": 6,
      "outputs": []
    },
    {
      "cell_type": "code",
      "source": [
        "def X_new(i, k, X):\n",
        "    return [X[j] for j in range(i, k)]\n",
        "\n",
        "def separate(X):\n",
        "    if len(X) == 2:\n",
        "        return (f(X[0]) - f(X[1])) / (X[0] - X[1])\n",
        "    else:\n",
        "        return (separate(X_new(0, len(X) - 1, X)) - separate(X_new(1, len(X), X))) / (X[0] - X[len(X) - 1])"
      ],
      "metadata": {
        "id": "uE5nQzSpIwm_"
      },
      "execution_count": 7,
      "outputs": []
    },
    {
      "cell_type": "code",
      "source": [
        "def xxx(x, i, X):\n",
        "    res = 1\n",
        "    for j in range(i):\n",
        "        res *= (x - X[j])\n",
        "    return res\n",
        "    \n",
        "def P(x, X):\n",
        "    p = f(X[0])\n",
        "    for i in range(1, len(X)):\n",
        "        X_ = X_new(0, i + 1, X)\n",
        "        p += xxx(x, i, X) * separate(X_)\n",
        "    return p"
      ],
      "metadata": {
        "id": "wPutixCII2PZ"
      },
      "execution_count": 8,
      "outputs": []
    },
    {
      "cell_type": "code",
      "source": [
        "print(\"МНОГОЧЛЕН ЛАГРАНЖА\\n\")\n",
        "print(\"а)\\tf(x*) = {0}\\n\\tL(x*) = {1}\\n\\tПогрешность: {2}\\n\".format(f(X), L(X, X_a), f(X) - L(X, X_a)))\n",
        "print(\"б)\\tf(x*) = {0}\\n\\tL(x*) = {1}\\n\\tПогрешность: {2}\\n\".format(f(X), L(X, X_b), f(X) - L(X, X_b)))"
      ],
      "metadata": {
        "colab": {
          "base_uri": "https://localhost:8080/"
        },
        "id": "hzleVO1nI67V",
        "outputId": "d7464d13-421d-49e0-c9a0-a7c6b6e9db3c"
      },
      "execution_count": 9,
      "outputs": [
        {
          "output_type": "stream",
          "name": "stdout",
          "text": [
            "МНОГОЧЛЕН ЛАГРАНЖА\n",
            "\n",
            "а)\tf(x*) = 1.570628905633337\n",
            "\tL(x*) = 1.570740448784384\n",
            "\tПогрешность: -0.00011154315104699997\n",
            "\n",
            "б)\tf(x*) = 1.570628905633337\n",
            "\tL(x*) = 1.5707026801545112\n",
            "\tПогрешность: -7.377452117429684e-05\n",
            "\n"
          ]
        }
      ]
    },
    {
      "cell_type": "code",
      "source": [
        "print(\"МНОГОЧЛЕН НЬЮТОНА\\n\")\n",
        "print(\"а)\\tf(x*) = {0}\\n\\tP(x*) = {1}\\n\\tПогрешность: {2}\\n\".format(f(X), P(X, X_a), f(X) - P(X, X_a)))\n",
        "print(\"б)\\tf(x*) = {0}\\n\\tP(x*) = {1}\\n\\tПогрешность: {2}\\n\".format(f(X), P(X, X_b), f(X) - P(X, X_b)))"
      ],
      "metadata": {
        "colab": {
          "base_uri": "https://localhost:8080/"
        },
        "id": "B4XvYYQMJacF",
        "outputId": "9eb36d5e-1c91-4215-ecec-82aec65a2681"
      },
      "execution_count": 10,
      "outputs": [
        {
          "output_type": "stream",
          "name": "stdout",
          "text": [
            "МНОГОЧЛЕН НЬЮТОНА\n",
            "\n",
            "а)\tf(x*) = 1.570628905633337\n",
            "\tP(x*) = 1.5707404487843843\n",
            "\tПогрешность: -0.00011154315104744406\n",
            "\n",
            "б)\tf(x*) = 1.570628905633337\n",
            "\tP(x*) = 1.570702680154511\n",
            "\tПогрешность: -7.377452117407479e-05\n",
            "\n"
          ]
        }
      ]
    },
    {
      "cell_type": "code",
      "source": [
        "xmin = -1\n",
        "xmax = 1\n",
        "dx = 0.01\n",
        "\n",
        "xarr = np.arange(xmin, xmax, dx)\n",
        "ylist = [f(x) for x in xarr]\n",
        "\n",
        "y_X_a = [f(x) for x in X_a]\n",
        "\n",
        "Larr = np.array([-1, -0.5, 0, 0.5, 1])\n",
        "Llist = [L(x, X_a) for x in Larr]\n",
        "\n",
        "Parr = np.array([-1, -0.5, 0, 0.5, 1])\n",
        "Plist = [P(x, X_a) for x in Parr]\n",
        "\n",
        "fig = plt.figure(figsize=(15, 10))\n",
        "grid = plt.grid(True) \n",
        "\n",
        "plt.title('f(x)')\n",
        "plt.plot(xarr, ylist)\n",
        "plt.plot(Larr, Llist)\n",
        "plt.plot(Parr, Plist)\n",
        "plt.plot(X_a, y_X_a, '*')\n",
        "plt.legend(['f(x)', 'L(x)', 'P(x)', 'Xa'])\n",
        "plt.show()"
      ],
      "metadata": {
        "colab": {
          "base_uri": "https://localhost:8080/",
          "height": 624
        },
        "id": "_pZk0m-6JiwZ",
        "outputId": "a87d0e3d-eba7-4f1f-ffd0-b2e4752823ed"
      },
      "execution_count": 11,
      "outputs": [
        {
          "output_type": "stream",
          "name": "stderr",
          "text": [
            "/usr/local/lib/python3.7/dist-packages/ipykernel_launcher.py:17: RuntimeWarning: invalid value encountered in double_scalars\n"
          ]
        },
        {
          "output_type": "display_data",
          "data": {
            "text/plain": [
              "<Figure size 1080x720 with 1 Axes>"
            ],
            "image/png": "[encoded data removed]"
          },
          "metadata": {
            "needs_background": "light"
          }
        }
      ]
    },
    {
      "cell_type": "markdown",
      "source": [
        "Задание: Построить кубический сплайн для функции, заданной в узлах интерполяции, предполагая, что сплайн имеет нулевую кривизну при x=x0 и x=x4. Вычислить значение функции в точке x=X*."
      ],
      "metadata": {
        "id": "bE8fIUU9KulT"
      }
    },
    {
      "cell_type": "code",
      "source": [
        "x=0.1"
      ],
      "metadata": {
        "id": "sDNb6RYILGQj"
      },
      "execution_count": 12,
      "outputs": []
    },
    {
      "cell_type": "code",
      "source": [
        "X = np.array([-0.4, -0.1, 0.2, 0.5, 0.8])\n",
        "F = np.array([1.5823, 1.5701, 1.5694, 1.5472, 1.4435])"
      ],
      "metadata": {
        "id": "xQbvZQLNLSXS"
      },
      "execution_count": 13,
      "outputs": []
    },
    {
      "cell_type": "code",
      "source": [
        "def Progonka(A, b):\n",
        "    if (A.size[0] != A.size[1]) | (A.size[0] != len(b)):\n",
        "        raise Exception(\"Система имеет бесконечное число решений\")   \n",
        "    X = [0] * A.size[0]\n",
        "    P = [0] * A.size[0]\n",
        "    Q = [0] * A.size[0]\n",
        "    P[0] = -A.matrix[0][1] / A.matrix[0][0]\n",
        "    Q[0] = b[0] / A.matrix[0][0]\n",
        "    for i in range(1, A.size[0]):\n",
        "        if i != A.size[0] - 1:\n",
        "            P[i] = -A.matrix[i][i + 1] / (A.matrix[i][i] + P[i - 1] * A.matrix[i][i - 1])\n",
        "        else:\n",
        "            P[i] = 0\n",
        "        Q[i] = (b[i] - Q[i - 1] * A.matrix[i][i - 1]) / (A.matrix[i][i] + P[i - 1] * A.matrix[i][i - 1])\n",
        "    for i in range(A.size[0] - 1, -1, -1):\n",
        "        if i != A.size[0] - 1:\n",
        "            X[i] = X[i + 1] * P[i] + Q[i]\n",
        "        else:\n",
        "            X[i] = Q[i]\n",
        "    return X"
      ],
      "metadata": {
        "id": "eBR-PGg24Bdp"
      },
      "execution_count": 14,
      "outputs": []
    },
    {
      "cell_type": "code",
      "source": [
        "def S(x, X, F):\n",
        "    res = 0\n",
        "    if len(X) != len(F):\n",
        "        raise Exception(\"Несовпадение размерностей\")\n",
        "        \n",
        "    h = []\n",
        "    n = len(X)\n",
        "    \n",
        "    for i in range(1, n):\n",
        "        h.append(X[i] - X[i - 1])\n",
        "        \n",
        "    c_syst = []\n",
        "    rows = []\n",
        "    \n",
        "    for i in range(n - 2):\n",
        "        if i == 0:\n",
        "            rows.append(2 * (h[i] + h[i + 1]))\n",
        "        elif i == 1:\n",
        "            rows.append(h[i])\n",
        "        else:\n",
        "            rows.append(0)\n",
        "            \n",
        "    c_syst.append(rows)\n",
        "        \n",
        "    for i in range(1, n - 3):\n",
        "        rows = []\n",
        "        for j in range(n - 2):\n",
        "            if i - 1 == j:\n",
        "                rows.append(h[i])\n",
        "            elif i == j:\n",
        "                rows.append(2 * (h[i - 1] + h[i]))\n",
        "            elif i + 1 == j:\n",
        "                rows.append(h[i])\n",
        "            else:\n",
        "                rows.append(0)\n",
        "        c_syst.append(rows)\n",
        "    \n",
        "    rows = []\n",
        "    \n",
        "    for i in range(2, n):\n",
        "        if i == n - 2:\n",
        "            rows.append(h[i])\n",
        "        elif i == n - 1:\n",
        "            rows.append(2 * (h[i - 2] + h[i - 1]))\n",
        "        else:\n",
        "            rows.append(0)\n",
        "            \n",
        "    c_syst.append(rows)        \n",
        "    b = []    \n",
        "    \n",
        "    for i in range(2, n):\n",
        "        b.append(3 * ((F[i] - F[i - 1]) / h[i - 1] - (F[i - 1] - F[i - 2]) / h[i - 2]))\n",
        "    \n",
        "    c = [0] + Progonka(Matrix(c_syst), b)\n",
        "    \n",
        "    a = []\n",
        "    b = []\n",
        "    d = []\n",
        "    \n",
        "    for i in range(n - 1):\n",
        "        a.append(F[i])\n",
        "        if i == n - 2:\n",
        "            b.append((F[i + 1] - F[i]) / h[i] - (2 / 3) * h[i] * c[i])\n",
        "            d.append(- c[i] / (3 * h[i]))\n",
        "        else:\n",
        "            b.append((F[i + 1] - F[i]) / h[i] - (1 / 3) * h[i] * (c[i + 1] + 2 * c[i]))\n",
        "            d.append((c[i + 1] - c[i]) / (3 * h[i]))\n",
        "    \n",
        "    for i in range(n - 1):\n",
        "        if (x >= X[i]) & (x <= X[i + 1]):\n",
        "            res = a[i] + b[i] * (x - X[i]) + c[i] * (x - X[i]) ** 2 + d[i] * (x - X[i]) ** 3\n",
        "            break\n",
        "    return res"
      ],
      "metadata": {
        "id": "ncc3UJsn4Hqm"
      },
      "execution_count": 15,
      "outputs": []
    },
    {
      "cell_type": "code",
      "source": [
        "print('f(x*) = {}'.format(S(x, X, F)))"
      ],
      "metadata": {
        "colab": {
          "base_uri": "https://localhost:8080/"
        },
        "id": "vTzQhSNR4RAl",
        "outputId": "281adf39-684b-43db-b2d2-a2072088ab89"
      },
      "execution_count": 16,
      "outputs": [
        {
          "output_type": "stream",
          "name": "stdout",
          "text": [
            "f(x*) = 1.5691201058201059\n"
          ]
        }
      ]
    },
    {
      "cell_type": "code",
      "source": [
        "xmin = -0.4\n",
        "xmax = 0.81\n",
        "dx = 0.01\n",
        "\n",
        "xarr = np.arange(xmin, xmax, dx)\n",
        "ylist = [S(x_, X, F) for x_ in xarr]\n",
        "ylist.remove(0)\n",
        "ylist.append(1.4435)\n",
        "\n",
        "fig = plt.figure(figsize=(15, 10))\n",
        "grid = plt.grid(True) \n",
        "\n",
        "plt.title('S(x)')\n",
        "plt.plot(xarr, ylist)\n",
        "plt.plot(X, F, '*')\n",
        "plt.legend(['S(x)', 'Xi'])\n",
        "plt.show()"
      ],
      "metadata": {
        "colab": {
          "base_uri": "https://localhost:8080/",
          "height": 607
        },
        "id": "bnkUQ3Mi4XGy",
        "outputId": "338b7a42-e06c-4c96-a89d-0dad479aa659"
      },
      "execution_count": 17,
      "outputs": [
        {
          "output_type": "display_data",
          "data": {
            "text/plain": [
              "<Figure size 1080x720 with 1 Axes>"
            ],
            "image/png": "[encoded data removed]"
          },
          "metadata": {
            "needs_background": "light"
          }
        }
      ]
    },
    {
      "cell_type": "markdown",
      "source": [
        "Задание: Для таблично заданной функции путем решения нормальной системы МНК найти приближающие многочлены a) 1-ой  и б) 2-ой степени. Для каждого из приближающих многочленов вычислить сумму квадратов ошибок. Построить графики приближаемой функции и приближающих многочленов."
      ],
      "metadata": {
        "id": "awyYAAIr_vBO"
      }
    },
    {
      "cell_type": "code",
      "source": [
        "X = np.array([-0.7, -0.4, -0.1, 0.2, 0.5, 0.8])\n",
        "Y = np.array([1.6462, 1.5823, 1.571, 1.5694, 1.5472, 1.4435])"
      ],
      "metadata": {
        "id": "ZrYKCo3F_9_O"
      },
      "execution_count": 18,
      "outputs": []
    },
    {
      "cell_type": "code",
      "source": [
        "plt.figure(figsize=(10,7))\n",
        "plt.scatter(X, Y)\n",
        "plt.grid()\n",
        "plt.show()"
      ],
      "metadata": {
        "colab": {
          "base_uri": "https://localhost:8080/",
          "height": 428
        },
        "id": "vO7McV_JAih3",
        "outputId": "cb5cc358-12c2-45c7-ad89-19838b7ab52e"
      },
      "execution_count": 19,
      "outputs": [
        {
          "output_type": "display_data",
          "data": {
            "text/plain": [
              "<Figure size 720x504 with 1 Axes>"
            ],
            "image/png": "[encoded data removed]"
          },
          "metadata": {
            "needs_background": "light"
          }
        }
      ]
    },
    {
      "cell_type": "code",
      "source": [
        "def MNK(X, Y, n):\n",
        "    if len(X) != len(Y):\n",
        "        raise Exception(\"Несоответсвие размерностей\")\n",
        "    A = []\n",
        "    b = []\n",
        "    \n",
        "    for i in range(n + 1):\n",
        "        rows = []\n",
        "        for j in range(n + 1):\n",
        "            rows.append(sum([x ** (i + j) for x in X]))\n",
        "        A.append(rows)\n",
        "        b.append(sum([Y[k] * X[k] ** i for k in range(len(Y))]))\n",
        "    \n",
        "    a = get_solution(Matrix(A), b)\n",
        "    return lambda x: sum([a[i] * x ** i for i in range(n + 1)])"
      ],
      "metadata": {
        "id": "_49cKhvAAnGf"
      },
      "execution_count": 20,
      "outputs": []
    },
    {
      "cell_type": "code",
      "source": [
        "def err(f, X, Y):\n",
        "    if len(X) != len(Y):\n",
        "        raise Exception(\"Несоответсвие размерностей\")\n",
        "    return sum([(f(X[i]) - Y[i]) ** 2 for i in range(len(X))])"
      ],
      "metadata": {
        "id": "HN8Pm7ajBCga"
      },
      "execution_count": 21,
      "outputs": []
    },
    {
      "cell_type": "code",
      "source": [
        "f_1 = MNK(X, Y, 1)\n",
        "f_2 = MNK(X, Y, 2)"
      ],
      "metadata": {
        "id": "VLVR6WDcBGgK"
      },
      "execution_count": 22,
      "outputs": []
    },
    {
      "cell_type": "code",
      "source": [
        "xmin = -0.7\n",
        "xmax = 0.81\n",
        "dx = 0.01\n",
        "\n",
        "xarr = np.arange(xmin, xmax, dx)"
      ],
      "metadata": {
        "id": "qwZ8nu5yB4S-"
      },
      "execution_count": 23,
      "outputs": []
    },
    {
      "cell_type": "code",
      "source": [
        "print(\"Standard deviation of f_1(x) is {}\".format(err(f_1, X, Y)))\n",
        "\n",
        "ylist = [f_1(x) for x in xarr]\n",
        "\n",
        "plt.figure(figsize=(10,7))\n",
        "plt.title(\"Многочлен 1 степени\")\n",
        "plt.grid()\n",
        "plt.scatter(X, Y)\n",
        "plt.plot(xarr, ylist)\n",
        "plt.legend(['f_1(x)', 'Yi'])\n",
        "plt.show()"
      ],
      "metadata": {
        "colab": {
          "base_uri": "https://localhost:8080/",
          "height": 461
        },
        "id": "wNPaqf7zB_90",
        "outputId": "58f91c41-10a2-4cac-d30e-9a2ca9c117c5"
      },
      "execution_count": 24,
      "outputs": [
        {
          "output_type": "stream",
          "name": "stdout",
          "text": [
            "Standard deviation of f_1(x) is 0.003940351047619036\n"
          ]
        },
        {
          "output_type": "display_data",
          "data": {
            "text/plain": [
              "<Figure size 720x504 with 1 Axes>"
            ],
            "image/png": "[encoded data removed]"
          },
          "metadata": {
            "needs_background": "light"
          }
        }
      ]
    },
    {
      "cell_type": "code",
      "source": [
        "print(\"Standard deviation of f_2(x) is {}\".format(err(f_2, X, Y)))\n",
        "\n",
        "ylist = [f_2(x) for x in xarr]\n",
        "\n",
        "plt.figure(figsize=(10,7))\n",
        "plt.title(\"Многочлен 2 степени\")\n",
        "plt.grid()\n",
        "plt.scatter(X, Y)\n",
        "plt.plot(xarr, ylist)\n",
        "plt.legend(['f_2(x)', 'Yi'])\n",
        "plt.show()"
      ],
      "metadata": {
        "colab": {
          "base_uri": "https://localhost:8080/",
          "height": 461
        },
        "id": "FCzPWfIKCTaE",
        "outputId": "ae983fe5-6ea8-4de8-e84f-d87991653467"
      },
      "execution_count": 25,
      "outputs": [
        {
          "output_type": "stream",
          "name": "stdout",
          "text": [
            "Standard deviation of f_2(x) is 0.0032396991428571523\n"
          ]
        },
        {
          "output_type": "display_data",
          "data": {
            "text/plain": [
              "<Figure size 720x504 with 1 Axes>"
            ],
            "image/png": "[encoded data removed]"
          },
          "metadata": {
            "needs_background": "light"
          }
        }
      ]
    },
    {
      "cell_type": "markdown",
      "source": [
        "Задание: Вычислить первую и вторую производную от таблично заданной функции yi=f(xi), i=0, 1, 2, 3, 4 в точке x=X*.  "
      ],
      "metadata": {
        "id": "GUuV0BMdj3wo"
      }
    },
    {
      "cell_type": "code",
      "source": [
        "x=1.0"
      ],
      "metadata": {
        "id": "Uc4O0fzsj3Y1"
      },
      "execution_count": 26,
      "outputs": []
    },
    {
      "cell_type": "code",
      "source": [
        "X = np.array([-1., 0., 1., 2., 3.])\n",
        "Y = np.array([1.3562, 1.5708, 1.7854, 2.4636, 3.3218])"
      ],
      "metadata": {
        "id": "FFUGFLFnkjKF"
      },
      "execution_count": 27,
      "outputs": []
    },
    {
      "cell_type": "code",
      "source": [
        "plt.figure(figsize=(10,7))\n",
        "plt.scatter(X, Y)\n",
        "plt.grid()\n",
        "plt.show()"
      ],
      "metadata": {
        "colab": {
          "base_uri": "https://localhost:8080/",
          "height": 428
        },
        "id": "q2mBVonFk6qS",
        "outputId": "0f0d1faa-efe8-4808-987b-76c3a0d71193"
      },
      "execution_count": 28,
      "outputs": [
        {
          "output_type": "display_data",
          "data": {
            "text/plain": [
              "<Figure size 720x504 with 1 Axes>"
            ],
            "image/png": "[encoded data removed]"
          },
          "metadata": {
            "needs_background": "light"
          }
        }
      ]
    },
    {
      "cell_type": "code",
      "source": [
        "def diff(x, X, Y):\n",
        "    if len(X) != len(Y):\n",
        "        raise Exception(\"Несоответсвие размерностей\")\n",
        "    \n",
        "    for i in range(len(X) - 1):\n",
        "        if (x >= X[i]) & (x <= X[i + 1]):\n",
        "            if (x == X[i]) & (i != 0):\n",
        "                left = (Y[i] - Y[i - 1]) / (X[i] - X[i - 1])\n",
        "                right = (Y[i + 1] - Y[i]) / (X[i + 1] - X[i])\n",
        "                \n",
        "                mean = (left + right) / 2\n",
        "                \n",
        "                print('Левая производная: {}'.format(left))\n",
        "                print('Правая производная: {}'.format(right))\n",
        "                print('Среднее: {}'.format(mean))\n",
        "                \n",
        "            elif (x == X[i + 1]) & (i != len(X) - 1):\n",
        "                left = (Y[i + 1] - Y[i]) / (X[i + 1] - X[i])\n",
        "                right = (Y[i + 2] - Y[i + 1]) / (X[i + 2] - X[i + 1])\n",
        "                \n",
        "                mean = (left + right) / 2\n",
        "                \n",
        "                print('Левая производная: {}'.format(left))\n",
        "                print('Правая производная: {}'.format(right))\n",
        "                print('Среднее: {}'.format(mean))\n",
        "            else:\n",
        "                df_1 = (Y[i + 1] - Y[i]) / (X[i + 1] - X[i])\n",
        "                \n",
        "                print('1-я производная от функции первой степени: {}'.format(df_1))\n",
        "            df_2 = (Y[i + 1] - Y[i]) / (X[i + 1] - X[i]) + (((Y[i + 2] - Y[i + 1]) / (X[i + 2] - X[i + 1]) - (Y[i + 1] - Y[i]) / (X[i + 1] - X[i])) / (X[i + 2] - X[i])) * (2 * x - X[i] - X[i + 1])\n",
        "            ddf = 2 * (((Y[i + 2] - Y[i + 1]) / (X[i + 2] - X[i + 1]) - (Y[i + 1] - Y[i]) / (X[i + 1] - X[i])) / (X[i + 2] - X[i]))\n",
        "            \n",
        "            print('1-я производная от функции второй степени: {}'.format(df_2))\n",
        "            print('2-я производная от функции второй степени: {}'.format(ddf))\n",
        "            break"
      ],
      "metadata": {
        "id": "Z019HEfhk_lb"
      },
      "execution_count": 29,
      "outputs": []
    },
    {
      "cell_type": "code",
      "source": [
        "diff(x, X, Y)"
      ],
      "metadata": {
        "colab": {
          "base_uri": "https://localhost:8080/"
        },
        "id": "uVsXi56blAey",
        "outputId": "71c040b6-6471-42f3-cd9c-1987daf47d34"
      },
      "execution_count": 30,
      "outputs": [
        {
          "output_type": "stream",
          "name": "stdout",
          "text": [
            "Левая производная: 0.21460000000000012\n",
            "Правая производная: 0.6781999999999999\n",
            "Среднее: 0.4464\n",
            "1-я производная от функции второй степени: 0.4464\n",
            "2-я производная от функции второй степени: 0.4635999999999998\n"
          ]
        }
      ]
    },
    {
      "cell_type": "markdown",
      "source": [
        "Задание: Вычислить определенный интеграл F=S(X1, X0) y dx, методами прямоугольников, трапеций, Симпсона с шагами h1, h2. Оценить погрешность вычислений, используя  Метод Рунге-Ромберга."
      ],
      "metadata": {
        "id": "q2raUIhllVwt"
      }
    },
    {
      "cell_type": "code",
      "source": [
        "def y(x):\n",
        "    return math.sqrt(x)/(4+3*x)"
      ],
      "metadata": {
        "id": "bQdDUlt5luCY"
      },
      "execution_count": 31,
      "outputs": []
    },
    {
      "cell_type": "code",
      "source": [
        "x0 = 1\n",
        "x1 = 5\n",
        "h1 = 1.0\n",
        "h2 = 0.5"
      ],
      "metadata": {
        "id": "LSw1w0YlmAjJ"
      },
      "execution_count": 32,
      "outputs": []
    },
    {
      "cell_type": "code",
      "source": [
        "def rectangle(x0, x1, f, h):\n",
        "    X = np.arange(x0, x1, h)\n",
        "    return h * sum([f(X[i] + h / 2) for i in range(len(X))])"
      ],
      "metadata": {
        "id": "FViCkBszmJC-"
      },
      "execution_count": 33,
      "outputs": []
    },
    {
      "cell_type": "code",
      "source": [
        "def trapeze(x0, x1, f, h):\n",
        "    X = np.arange(x0, x1, h)\n",
        "    return h * ((f(X[0]) + f(x1)) / 2 + sum([f(X[i]) for i in range(1, len(X))]))"
      ],
      "metadata": {
        "id": "JLFuhk4qmMML"
      },
      "execution_count": 34,
      "outputs": []
    },
    {
      "cell_type": "code",
      "source": [
        "def Simpson(x0, x1, f, h):\n",
        "    res = 0\n",
        "    x = x0 + h\n",
        "    while x < x1:\n",
        "        res += f(x - h) + 4 * f(x) + f(x + h)\n",
        "        x += 2 * h\n",
        "    return (h / 3) * res"
      ],
      "metadata": {
        "id": "CuqUA0qSmPUF"
      },
      "execution_count": 35,
      "outputs": []
    },
    {
      "cell_type": "code",
      "source": [
        "p = 2\n",
        "def RRR(F1, F2, h1, h2, p):\n",
        "    if h1 < h2:\n",
        "        return F1 + (F1 - F2) / ((h2 / h1) ** p - 1)\n",
        "    return F2 + (F2 - F1) / ((h1 / h2) ** p - 1)"
      ],
      "metadata": {
        "id": "SygTexYnmR18"
      },
      "execution_count": 36,
      "outputs": []
    },
    {
      "cell_type": "code",
      "source": [
        "p1 = rectangle(x0, x1, y, h1)\n",
        "t1 = trapeze(x0, x1, y, h1)\n",
        "s1 = Simpson(x0, x1, y, h1)\n",
        "\n",
        "p2 = rectangle(x0, x1, y, h2)\n",
        "t2 = trapeze(x0, x1, y, h2)\n",
        "s2 = Simpson(x0, x1, y, h2)\n",
        "\n",
        "rp = RRR(p1, p2, h1, h2, p)\n",
        "rt = RRR(t1, t2, h1, h2, p)\n",
        "rs = RRR(s1, s2, h1, h2, p)"
      ],
      "metadata": {
        "id": "ESi8xD6dmUhh"
      },
      "execution_count": 37,
      "outputs": []
    },
    {
      "cell_type": "code",
      "source": [
        "print('h1 = {}'.format(h1))\n",
        "print(\"Прямоугольник: {}\".format(p1))\n",
        "print(\"Трапеция: {}\".format(t1))\n",
        "print(\"Симпсон: {}\".format(s1))"
      ],
      "metadata": {
        "colab": {
          "base_uri": "https://localhost:8080/"
        },
        "id": "TyfbbSNymXbD",
        "outputId": "319e12a9-8bd6-4590-a553-f362cd373d26"
      },
      "execution_count": 38,
      "outputs": [
        {
          "output_type": "stream",
          "name": "stdout",
          "text": [
            "h1 = 1.0\n",
            "Прямоугольник: 0.5318189388349329\n",
            "Трапеция: 0.5299284993159105\n",
            "Симпсон: 0.5308999037021467\n"
          ]
        }
      ]
    },
    {
      "cell_type": "code",
      "source": [
        "print('h2 = {}'.format(h2))\n",
        "print(\"Прямоугольник: {}\".format(p2))\n",
        "print(\"Трапеция: {}\".format(t2))\n",
        "print(\"Симпсон: {}\".format(s2))"
      ],
      "metadata": {
        "colab": {
          "base_uri": "https://localhost:8080/"
        },
        "id": "Rb2n6oOomaE4",
        "outputId": "37ddb364-2f73-4912-c325-ac2dd90bdfdb"
      },
      "execution_count": 39,
      "outputs": [
        {
          "output_type": "stream",
          "name": "stdout",
          "text": [
            "h2 = 0.5\n",
            "Прямоугольник: 0.5313885217114334\n",
            "Трапеция: 0.5308737190754217\n",
            "Симпсон: 0.531188792328592\n"
          ]
        }
      ]
    },
    {
      "cell_type": "code",
      "source": [
        "print('\\nТочное значение по Рунге-Ромбергу-Ридчардсону для прямоугольника: {0};\\nПогрешность: {1} и {2}'.format(rp, abs(rp - p1), abs(rp - p2)))\n",
        "print('\\nТочное значение по Рунге-Ромбергу-Ридчардсону для трапеции: {0};\\nПогрешность: {1} и {2}'.format(rt, abs(rt - t1), abs(rt - t2)))\n",
        "print('\\nТочное значение по Рунге-Ромбергу-Ридчардсону для Симпсона: {0};\\nПогрешность: {1} и {2}'.format(rp, abs(rs - s1), abs(rs - s2)))"
      ],
      "metadata": {
        "colab": {
          "base_uri": "https://localhost:8080/"
        },
        "id": "Ohh2MSh6mdHM",
        "outputId": "9e1aed6e-dd3b-4337-b37d-51071f89b8bf"
      },
      "execution_count": 40,
      "outputs": [
        {
          "output_type": "stream",
          "name": "stdout",
          "text": [
            "\n",
            "Точное значение по Рунге-Ромбергу-Ридчардсону для прямоугольника: 0.5312450493369335;\n",
            "Погрешность: 0.0005738894979994136 и 0.0001434723744998534\n",
            "\n",
            "Точное значение по Рунге-Ромбергу-Ридчардсону для трапеции: 0.5311887923285921;\n",
            "Погрешность: 0.0012602930126816014 и 0.0003150732531703726\n",
            "\n",
            "Точное значение по Рунге-Ромбергу-Ридчардсону для Симпсона: 0.5312450493369335;\n",
            "Погрешность: 0.00038518483526039926 и 9.629620881512757e-05\n"
          ]
        }
      ]
    }
  ]
}