{
  "nbformat": 4,
  "nbformat_minor": 0,
  "metadata": {
    "colab": {
      "name": "NM_lab4",
      "provenance": [],
      "collapsed_sections": []
    },
    "kernelspec": {
      "name": "python3",
      "display_name": "Python 3"
    },
    "language_info": {
      "name": "python"
    }
  },
  "cells": [
    {
      "cell_type": "markdown",
      "source": [
        "# Лабораторная работа №4\n",
        "# по численным методам\n",
        "## Выполнила: Хренникова Ангелина \n",
        "## Группа: М8О-308Б-19\n",
        "### Вариант: 20\n"
      ],
      "metadata": {
        "id": "JWMwlZHxIoKG"
      }
    },
    {
      "cell_type": "markdown",
      "source": [
        "Задача: Реализовать методы Эйлера, Рунге-Кутты и Адамса 4-го порядка в виде программ, задавая в качестве входных данных шаг сетки  h. С использованием разработанного программного обеспечения решить задачу Коши для ОДУ 2-го порядка на указанном отрезке. Оценить погрешность численного решения с использованием метода Рунге – Ромберга и путем сравнения с точным решением. "
      ],
      "metadata": {
        "id": "2CaGseWxJRno"
      }
    },
    {
      "cell_type": "code",
      "source": [
        "import math\n",
        "import numpy as np\n",
        "import matplotlib.pyplot as plt\n",
        "import random\n",
        "from copy import deepcopy"
      ],
      "metadata": {
        "id": "Pw-kvob-LpE9"
      },
      "execution_count": 1,
      "outputs": []
    },
    {
      "cell_type": "code",
      "source": [
        "class Matrix:\n",
        "    def __init__(self, matrix):\n",
        "        self.matrix = deepcopy(matrix)\n",
        "        self.size = self._Size()\n",
        "        \n",
        "    def __str__(self):\n",
        "        return '\\n'.join([''.join(['%f\\t' % i for i in row]) for\n",
        "                          row in self.matrix])\n",
        "    \n",
        "    def __getitem__(self, index):\n",
        "        return self.matrix[index]\n",
        "    \n",
        "    def _Size(self):\n",
        "        rows = len(self.matrix)\n",
        "        cols = 0\n",
        "        for row in self.matrix:\n",
        "            if (type(row) == int) | (type(row) == float):\n",
        "                break\n",
        "            if len(row) > cols:\n",
        "                cols = len(row)\n",
        "        return (rows, cols)"
      ],
      "metadata": {
        "id": "KVCYHDXizr71"
      },
      "execution_count": 2,
      "outputs": []
    },
    {
      "cell_type": "code",
      "source": [
        "def Progonka(A, b):\n",
        "    if (A.size[0] != A.size[1]) | (A.size[0] != len(b)):\n",
        "        raise Exception(\"Система имеет бесконечное число решений\")   \n",
        "    X = [0] * A.size[0]\n",
        "    P = [0] * A.size[0]\n",
        "    Q = [0] * A.size[0]\n",
        "    P[0] = -A.matrix[0][1] / A.matrix[0][0]\n",
        "    Q[0] = b[0] / A.matrix[0][0]\n",
        "    for i in range(1, A.size[0]):\n",
        "        if i != A.size[0] - 1:\n",
        "            P[i] = -A.matrix[i][i + 1] / (A.matrix[i][i] + P[i - 1] * A.matrix[i][i - 1])\n",
        "        else:\n",
        "            P[i] = 0\n",
        "        Q[i] = (b[i] - Q[i - 1] * A.matrix[i][i - 1]) / (A.matrix[i][i] + P[i - 1] * A.matrix[i][i - 1])\n",
        "    for i in range(A.size[0] - 1, -1, -1):\n",
        "        if i != A.size[0] - 1:\n",
        "            X[i] = X[i + 1] * P[i] + Q[i]\n",
        "        else:\n",
        "            X[i] = Q[i]\n",
        "    return X"
      ],
      "metadata": {
        "id": "_Uy_UYb8z2m0"
      },
      "execution_count": 3,
      "outputs": []
    },
    {
      "cell_type": "code",
      "execution_count": 4,
      "metadata": {
        "id": "5ooBOyROIOqE"
      },
      "outputs": [],
      "source": [
        "def f(x):\n",
        "    return abs(x)**(3/2)"
      ]
    },
    {
      "cell_type": "code",
      "source": [
        "def dy(x):\n",
        "    return 3*x/(2*(abs(x)**(1/2)))"
      ],
      "metadata": {
        "id": "4IfVRBLKLMcw"
      },
      "execution_count": 5,
      "outputs": []
    },
    {
      "cell_type": "code",
      "source": [
        "def ddy(x):\n",
        "    return 3*x**2/(4*abs(x)**(5/2))"
      ],
      "metadata": {
        "id": "l3MbO32yMxF6"
      },
      "execution_count": 6,
      "outputs": []
    },
    {
      "cell_type": "code",
      "source": [
        "def dz(x, y, z):\n",
        "    return (3/4*y-1/2*z)/(x-1)/x"
      ],
      "metadata": {
        "id": "V-nQzK6XNGcd"
      },
      "execution_count": 7,
      "outputs": []
    },
    {
      "cell_type": "code",
      "source": [
        "def eps(x, y, f=f):\n",
        "    return sum([(y[i] - f(x[i])) ** 2 for i in range(len(x))]) ** 0.5\n",
        "\n",
        "def d_eps(x, z, dy=dy):\n",
        "    return sum([(z[i] - dy(x[i])) ** 2 for i in range(len(x))]) ** 0.5"
      ],
      "metadata": {
        "id": "RzJDgjuqRk84"
      },
      "execution_count": 8,
      "outputs": []
    },
    {
      "cell_type": "code",
      "source": [
        "def RRR(y1, y2, h1, h2, p):\n",
        "    if h1 < h2:\n",
        "        return (sum([(y1[i * 2] - y2[i]) ** 2 for i in range(len(y2))]) ** 0.5) / ((h2 / h1) ** p - 1)\n",
        "    return (sum([(y1[i] - y2[i * 2]) ** 2 for i in range(len(y1))]) ** 0.5) / ((h1 / h2) ** p - 1)"
      ],
      "metadata": {
        "id": "hYE9sDqSSqMx"
      },
      "execution_count": 9,
      "outputs": []
    },
    {
      "cell_type": "code",
      "source": [
        "def Eiler(f=dz, y0=2**(3/2), z0=1.5*2**(1/2), h=0.1, a=2, b=3):\n",
        "    x = np.arange(a, b + h, h)\n",
        "    y = [y0]\n",
        "    z = [z0]\n",
        "    \n",
        "    for i in range(1, len(x)):\n",
        "        y.append(y[i - 1] + h * z[i - 1])\n",
        "        z.append(z[i - 1] + h * f(x[i - 1], y[i - 1], z[i - 1]))\n",
        "    return x, y, z"
      ],
      "metadata": {
        "id": "rO3U1Dl9SwGb"
      },
      "execution_count": 10,
      "outputs": []
    },
    {
      "cell_type": "code",
      "source": [
        "x1, y1, z1 = Eiler()\n",
        "eps1 = eps(x1, y1)\n",
        "eps2 = d_eps(x1, z1)\n",
        "print(\"Погрешность явного метода Эйлера относительно точного решения: {}\".format(eps1))\n",
        "print(\"Погрешность явного метода Эйлера относительно первой производной: {}\".format(eps2))\n",
        "print()\n",
        "x2, y2, z2 = Eiler(h=0.05)\n",
        "print(\"Погрешность по Рунге-Ромбергу-Ридчардсону явного метода Эйлера отнисительно точного решения: {}\".format(RRR(y1, y2, 0.1, 0.05, 2)))\n",
        "print(\"Погрешность по Рунге-Ромбергу-Ридчардсону явного метода Эйлера относительно первой производной: {}\".format(RRR(z1, z2, 0.1, 0.05, 2)))"
      ],
      "metadata": {
        "colab": {
          "base_uri": "https://localhost:8080/"
        },
        "id": "KMm_IOF6URU9",
        "outputId": "78bc10dd-a354-4e84-9816-2208b80962dd"
      },
      "execution_count": 11,
      "outputs": [
        {
          "output_type": "stream",
          "name": "stdout",
          "text": [
            "Погрешность явного метода Эйлера относительно точного решения: 0.04511928152482982\n",
            "Погрешность явного метода Эйлера относительно первой производной: 0.00667773803942419\n",
            "\n",
            "Погрешность по Рунге-Ромбергу-Ридчардсону явного метода Эйлера отнисительно точного решения: 0.007543564771378575\n",
            "Погрешность по Рунге-Ромбергу-Ридчардсону явного метода Эйлера относительно первой производной: 0.001153251613096737\n"
          ]
        }
      ]
    },
    {
      "cell_type": "code",
      "source": [
        "a = 2\n",
        "b = 3\n",
        "dx = 0.01\n",
        "\n",
        "xarr = np.arange(a, b + dx, dx)\n",
        "ylist = [f(x_) for x_ in xarr]\n",
        "dylist = [dy(x_) for x_ in xarr]\n",
        "\n",
        "plt.figure(figsize=(10,7))\n",
        "plt.title('Eiler')\n",
        "plt.plot(xarr, ylist)\n",
        "plt.scatter(x1, y1)\n",
        "plt.plot(xarr, dylist)\n",
        "plt.scatter(x1, z1)\n",
        "plt.legend(['y(x)', \"y'(x)\", 'y', 'z'])\n",
        "plt.grid()\n",
        "plt.show()"
      ],
      "metadata": {
        "colab": {
          "base_uri": "https://localhost:8080/",
          "height": 444
        },
        "id": "LvvRv5mNY-1Z",
        "outputId": "a1d6bf4a-9570-4e44-8da9-45cc490b14d8"
      },
      "execution_count": 12,
      "outputs": [
        {
          "output_type": "display_data",
          "data": {
            "text/plain": [
              "<Figure size 720x504 with 1 Axes>"
            ],
            "image/png": "[encoded data removed]"
          },
          "metadata": {
            "needs_background": "light"
          }
        }
      ]
    },
    {
      "cell_type": "code",
      "source": [
        "def delta(f, xk, yk, zk, h, flag):\n",
        "    K1 = h * zk\n",
        "    L1 = h * f(xk, yk, zk)\n",
        "\n",
        "    K2 = h * (zk + 0.5 * L1)\n",
        "    L2 = h * f(xk + 0.5 * h, yk + 0.5 * K1, zk + 0.5 * L1)\n",
        "    \n",
        "    K3 = h * (zk + 0.5 * L2)\n",
        "    L3 = h * f(xk + 0.5 * h, yk + 0.5 * K2, zk + 0.5 * L2)\n",
        "    \n",
        "    K4 = h * (zk + L3)\n",
        "    L4 = h * f(xk + h, yk + K3, zk + L3)\n",
        "    \n",
        "    if flag == True:\n",
        "        return (K1 + 2 * K2 + 2 * K3 + K4) / 6\n",
        "    return (L1 + 2 * L2 + 2 * L3 + L4) / 6"
      ],
      "metadata": {
        "id": "eoEr8wdvkMSw"
      },
      "execution_count": 13,
      "outputs": []
    },
    {
      "cell_type": "code",
      "source": [
        "def Runge_Kutta_4(f=dz, y0=2**(3/2), z0=(3/2)*2**(1/2), h=0.1, a=2, b=3):\n",
        "    x = np.arange(a, b + h, h)\n",
        "    y = [y0]\n",
        "    z = [z0]\n",
        "    \n",
        "    for i in range(1, len(x)):\n",
        "        y.append(y[i - 1] + delta(f, x[i - 1], y[i - 1], z[i - 1], h, True))\n",
        "        z.append(z[i - 1] + delta(f, x[i - 1], y[i - 1], z[i - 1], h, False))\n",
        "    return x, y, z"
      ],
      "metadata": {
        "id": "DSNP73PMkTx8"
      },
      "execution_count": 14,
      "outputs": []
    },
    {
      "cell_type": "code",
      "source": [
        "x1, y1, z1 = Runge_Kutta_4()\n",
        "eps1 = eps(x1, y1)\n",
        "eps2 = d_eps(x1, z1)\n",
        "print(\"Погрешность метода Рунге-Кутты 4 порядка относительно точного решения: {}\".format(eps1))\n",
        "print(\"Погрешность метода Рунге-Кутты 4 порядка относительно первой производной: {}\".format(eps2))\n",
        "print()\n",
        "x2, y2, z2 = Runge_Kutta_4(h=0.05)\n",
        "print(\"Погрешность по Рунге-Ромбергу-Ридчардсону метода Рунге-Кутты 4 порядка относительно точного решения: {}\".format(RRR(y1, y2, 0.1, 0.05, 2)))\n",
        "print(\"Погрешность по Рунге-Ромбергу-Ридчардсону явного метода Рунге-Кутты 4 порядка относительно первой производной: {}\".format(RRR(z1, z2, 0.1, 0.05, 2)))\n"
      ],
      "metadata": {
        "colab": {
          "base_uri": "https://localhost:8080/"
        },
        "id": "b0-jBDxAkhum",
        "outputId": "679f8fad-a53f-4aab-b8ae-3dee4ac6f707"
      },
      "execution_count": 15,
      "outputs": [
        {
          "output_type": "stream",
          "name": "stdout",
          "text": [
            "Погрешность метода Рунге-Кутты 4 порядка относительно точного решения: 1.088406322299819e-07\n",
            "Погрешность метода Рунге-Кутты 4 порядка относительно первой производной: 2.6635582080361758e-08\n",
            "\n",
            "Погрешность по Рунге-Ромбергу-Ридчардсону метода Рунге-Кутты 4 порядка относительно точного решения: 3.4013242426419546e-08\n",
            "Погрешность по Рунге-Ромбергу-Ридчардсону явного метода Рунге-Кутты 4 порядка относительно первой производной: 8.323588689609032e-09\n"
          ]
        }
      ]
    },
    {
      "cell_type": "code",
      "source": [
        "plt.figure(figsize=(10,7))\n",
        "plt.title('Runge Kutta')\n",
        "plt.plot(xarr, ylist)\n",
        "plt.scatter(x1, y1)\n",
        "plt.plot(xarr, dylist)\n",
        "plt.scatter(x1, z1)\n",
        "plt.legend(['y(x)', \"y'(x)\", 'y', 'z'])\n",
        "plt.grid()\n",
        "plt.show()"
      ],
      "metadata": {
        "colab": {
          "base_uri": "https://localhost:8080/",
          "height": 444
        },
        "id": "yE0dJ7iNkm7Z",
        "outputId": "df615769-3b3a-4d74-95be-c536f7cab871"
      },
      "execution_count": 16,
      "outputs": [
        {
          "output_type": "display_data",
          "data": {
            "text/plain": [
              "<Figure size 720x504 with 1 Axes>"
            ],
            "image/png": "[encoded data removed]"
          },
          "metadata": {
            "needs_background": "light"
          }
        }
      ]
    },
    {
      "cell_type": "code",
      "source": [
        "def Adams_4(f=dz, y0=2**1.5, z0=1.5*2**0.5, h=0.1, a=2, b=3):\n",
        "    x, y, z = Runge_Kutta_4(f, y0, z0, h, a, b)\n",
        "    y = y[:4]\n",
        "    z = z[:4]\n",
        "    for k in range(4, len(x)):\n",
        "        y.append(y[k - 1] + (h / 24) * (55 * z[k - 1] - 59 * z[k - 2] + 37 * z[k - 3] - 9 * z[k - 4]))\n",
        "        z.append(z[k - 1] + (h / 24) * (55 * f(x[k - 1], y[k - 1], z[k - 1]) - 59 * f(x[k - 2], y[k - 2], z[k - 2]) + 37 * f(x[k - 3], y[k - 3], z[k - 3]) - 9 * f(x[k - 4], y[k - 4], z[k - 4])))\n",
        "    return x, y, z"
      ],
      "metadata": {
        "id": "62FfaznrmNec"
      },
      "execution_count": 17,
      "outputs": []
    },
    {
      "cell_type": "code",
      "source": [
        "x1, y1, z1 = Adams_4()\n",
        "eps1 = eps(x1, y1)\n",
        "eps2 = d_eps(x1, z1)\n",
        "print(\"Погрешность метода Адамса 4 порядка относительно точного решения: {}\".format(eps1))\n",
        "print(\"Погрешность метода Адамса 4 порядка относительно первой производной: {}\".format(eps2))\n",
        "print()\n",
        "x2, y2, z2 = Adams_4(h=0.05)\n",
        "print(\"Погрешность по Рунге-Ромбергу-Ридчардсону метода Адамса 4 порядка относительно точного решения: {}\".format(RRR(y1, y2, 0.1, 0.05, 2)))\n",
        "print(\"Погрешность по Рунге-Ромбергу-Ридчардсону метода Адамса 4 порядка относительно первой производной: {}\".format(RRR(z1, z2, 0.1, 0.05, 2)))"
      ],
      "metadata": {
        "colab": {
          "base_uri": "https://localhost:8080/"
        },
        "id": "mvbVv0wmmUu3",
        "outputId": "38ec33cf-5298-40fc-ef9b-bd6525ac390e"
      },
      "execution_count": 18,
      "outputs": [
        {
          "output_type": "stream",
          "name": "stdout",
          "text": [
            "Погрешность метода Адамса 4 порядка относительно точного решения: 1.6548148765789392e-06\n",
            "Погрешность метода Адамса 4 порядка относительно первой производной: 3.82448003932271e-06\n",
            "\n",
            "Погрешность по Рунге-Ромбергу-Ридчардсону метода Адамса 4 порядка относительно точного решения: 5.146314803706755e-07\n",
            "Погрешность по Рунге-Ромбергу-Ридчардсону метода Адамса 4 порядка относительно первой производной: 1.168170503979643e-06\n"
          ]
        }
      ]
    },
    {
      "cell_type": "code",
      "source": [
        "plt.figure(figsize=(10,7))\n",
        "plt.title('Adams')\n",
        "plt.plot(xarr, ylist)\n",
        "plt.scatter(x1, y1)\n",
        "plt.plot(xarr, dylist)\n",
        "plt.scatter(x1, z1)\n",
        "plt.legend(['y(x)', \"y'(x)\", 'y', 'z'])\n",
        "plt.grid()\n",
        "plt.show()"
      ],
      "metadata": {
        "colab": {
          "base_uri": "https://localhost:8080/",
          "height": 444
        },
        "id": "B9-RFyxmmYRT",
        "outputId": "0336788d-6c5c-4f9e-9eff-1fe5148d12d9"
      },
      "execution_count": 19,
      "outputs": [
        {
          "output_type": "display_data",
          "data": {
            "text/plain": [
              "<Figure size 720x504 with 1 Axes>"
            ],
            "image/png": "[encoded data removed]"
          },
          "metadata": {
            "needs_background": "light"
          }
        }
      ]
    },
    {
      "cell_type": "markdown",
      "source": [
        "Задача: Реализовать метод стрельбы и конечно-разностный метод решения краевой задачи для ОДУ в виде программ. С использованием разработанного программного обеспечения решить краевую задачу для обыкновенного дифференциального уравнения 2-го порядка на указанном отрезке. Оценить погрешность численного решения с использованием метода Рунге – Ромберга и путем сравнения с точным решением. "
      ],
      "metadata": {
        "id": "_7SxieRmot7m"
      }
    },
    {
      "cell_type": "code",
      "source": [
        "def f(x):\n",
        "    return 2*x+1+math.exp(2*x)"
      ],
      "metadata": {
        "id": "txgiUKxsoa8H"
      },
      "execution_count": 20,
      "outputs": []
    },
    {
      "cell_type": "code",
      "source": [
        "def dy(x):\n",
        "    return 2*math.exp(2*x)+2"
      ],
      "metadata": {
        "id": "oFDuN43BpfJP"
      },
      "execution_count": 21,
      "outputs": []
    },
    {
      "cell_type": "code",
      "source": [
        "def ddy(x):\n",
        "    return 4*math.exp(2*x)"
      ],
      "metadata": {
        "id": "lG1tcmgiprWA"
      },
      "execution_count": 22,
      "outputs": []
    },
    {
      "cell_type": "code",
      "source": [
        "def dz(x, y, z):\n",
        "    if (x==0): \n",
        "        return 0\n",
        "    else: \n",
        "        return ((2*x+1)*z-2*y)/x"
      ],
      "metadata": {
        "id": "bMG2l5BRqGZg"
      },
      "execution_count": 23,
      "outputs": []
    },
    {
      "cell_type": "code",
      "source": [
        "def shooting(f=dz, y0=2, yn=10.389, h=0.1, a=0, b=1, eps=0.0001, n0=None, n=None):\n",
        "    if n == None:\n",
        "        n = random.uniform(0, 1)\n",
        "    if n0 == None:\n",
        "        n0 = abs(n - random.uniform(0, 1))        \n",
        "    k = 0\n",
        "    while True:\n",
        "        k += 1\n",
        "        x_, y_, z_ = Runge_Kutta_4(f=f, y0=y0, z0=n0, h=h, a=a, b=b)\n",
        "        x, y, z = Runge_Kutta_4(f=f, y0=y0, z0=n, h=h, a=a, b=b)\n",
        "        e = abs(y[-1] - yn)\n",
        "        if e <= eps:\n",
        "            break\n",
        "        temp = n\n",
        "        n = n - (y[-1] - yn) * (n - n0) / ((y[-1] - yn) - (y_[-1] - yn))\n",
        "        n0 = temp\n",
        "    return x, y, z, k, e"
      ],
      "metadata": {
        "id": "ztH0xp0rqXoc"
      },
      "execution_count": 24,
      "outputs": []
    },
    {
      "cell_type": "code",
      "source": [
        "x1, y1, z1, k, epsilon = shooting()\n",
        "eps1 = eps(x1, y1, f)\n",
        "eps2 = d_eps(x1, z1, dy)\n",
        "print(\"Погрешность метода стрельбы относительно точного решения: {}\".format(eps1))\n",
        "print(\"Погрешность метода стрельбы относительно первой производной: {}\".format(eps2))\n",
        "print(\"Количество итераций метода стрельбы: {}\".format(k))\n",
        "print(\"Эпсилон метода стрельбы: {}\".format(epsilon))\n",
        "print()\n",
        "x2, y2, z2, k, epsilon = shooting(h=0.05)\n",
        "print(\"Погрешность по Рунге-Ромбергу-Ридчардсону метода стрельбы относительно точного решения: {}\".format(RRR(y1, y2, 0.1, 0.05, 2)))\n",
        "print(\"Погрешность по Рунге-Ромбергу-Ридчардсону метода стрельбы относительно первой производной: {}\".format(RRR(z1, z2, 0.1, 0.05, 2)))"
      ],
      "metadata": {
        "colab": {
          "base_uri": "https://localhost:8080/"
        },
        "id": "bLzZLopZyms4",
        "outputId": "d7682015-afb4-4f2b-aa4e-100d11daf324"
      },
      "execution_count": 25,
      "outputs": [
        {
          "output_type": "stream",
          "name": "stdout",
          "text": [
            "Погрешность метода стрельбы относительно точного решения: 0.0030625670796973832\n",
            "Погрешность метода стрельбы относительно первой производной: 0.11021793018410887\n",
            "Количество итераций метода стрельбы: 2\n",
            "Эпсилон метода стрельбы: 3.836930773104541e-13\n",
            "\n",
            "Погрешность по Рунге-Ромбергу-Ридчардсону метода стрельбы относительно точного решения: 0.0007637732923024247\n",
            "Погрешность по Рунге-Ромбергу-Ридчардсону метода стрельбы относительно первой производной: 0.01888753530609225\n"
          ]
        }
      ]
    },
    {
      "cell_type": "code",
      "source": [
        "a = 0\n",
        "b = 1\n",
        "dx = 0.01\n",
        "\n",
        "xarr = np.arange(a, b + dx, dx)\n",
        "ylist = [f(x_) for x_ in xarr]\n",
        "dylist = [dy(x_) for x_ in xarr]\n",
        "\n",
        "plt.figure(figsize=(10,7))\n",
        "plt.title('Shooting')\n",
        "plt.plot(xarr, ylist)\n",
        "plt.scatter(x1, y1)\n",
        "plt.plot(xarr, dylist)\n",
        "plt.scatter(x1, z1)\n",
        "plt.legend(['y(x)', \"y'(x)\", 'y', 'z'])\n",
        "plt.grid()\n",
        "plt.show()"
      ],
      "metadata": {
        "colab": {
          "base_uri": "https://localhost:8080/",
          "height": 444
        },
        "id": "NKTxTt_9wA_r",
        "outputId": "41572fe9-14d6-4b1f-8d25-14acd8278502"
      },
      "execution_count": 26,
      "outputs": [
        {
          "output_type": "display_data",
          "data": {
            "text/plain": [
              "<Figure size 720x504 with 1 Axes>"
            ],
            "image/png": "[encoded data removed]"
          },
          "metadata": {
            "needs_background": "light"
          }
        }
      ]
    },
    {
      "cell_type": "code",
      "source": [
        "def p(x):\n",
        "    return -(2 * x + 1) / x\n",
        "\n",
        "def q(x):\n",
        "    return 2 / x\n",
        "\n",
        "def f_(x):\n",
        "    return 0"
      ],
      "metadata": {
        "id": "XlhTNSv8xahB"
      },
      "execution_count": 27,
      "outputs": []
    },
    {
      "cell_type": "code",
      "source": [
        "def razn(p=p, q=q, f=f_, ya=2, yb=10.389, h=0.1, a=0, b=1):\n",
        "    A = []\n",
        "    B = []\n",
        "    rows = []\n",
        "    x = np.arange(a, b + h, h)\n",
        "    \n",
        "    n = len(x)\n",
        "    \n",
        "    for i in range(n):\n",
        "        if i == 0:\n",
        "            rows.append(1)\n",
        "        else:\n",
        "            rows.append(0)\n",
        "    A.append(rows)\n",
        "    B.append(ya)\n",
        "    \n",
        "    for i in range(1, n - 1):\n",
        "        rows = []\n",
        "        B.append(f(x[i]))\n",
        "        for j in range(n):            \n",
        "            if j == i - 1:\n",
        "                rows.append(1 / h ** 2 - p(x[i]) / (2 * h))\n",
        "            elif i == j:\n",
        "                rows.append(-2 / h ** 2 + q(x[i]))\n",
        "            elif j == i + 1:\n",
        "                rows.append(1 / h ** 2 + p(x[i]) / (2 * h))\n",
        "            else:\n",
        "                rows.append(0)\n",
        "        A.append(rows)\n",
        "    \n",
        "    rows = []\n",
        "    B.append(yb)\n",
        "    \n",
        "    for i in range(n):\n",
        "        if i == n - 1:\n",
        "            rows.append(1)\n",
        "        else:\n",
        "            rows.append(0)\n",
        "            \n",
        "    A.append(rows)    \n",
        "    y = Progonka(Matrix(A), B)\n",
        "    \n",
        "    return x, y"
      ],
      "metadata": {
        "id": "TP3Vm0r9y4KQ"
      },
      "execution_count": 28,
      "outputs": []
    },
    {
      "cell_type": "code",
      "source": [
        "x1, y1 = razn()\n",
        "eps1 = eps(x1, y1, f)\n",
        "print(\"Погрешность конечно-разностного метода относительно точного решения: {}\".format(eps1))\n",
        "print()\n",
        "x2, y2 = razn(h=0.05)\n",
        "print(\"Погрешность по Рунге-Ромбергу-Ридчардсону конечно-разностного метода: {}\".format(RRR(y1, y2, 0.1, 0.05, 2)))"
      ],
      "metadata": {
        "colab": {
          "base_uri": "https://localhost:8080/"
        },
        "id": "06TBInVfzVKE",
        "outputId": "11c31626-9dca-48d6-ad97-24956e6d3bf6"
      },
      "execution_count": 29,
      "outputs": [
        {
          "output_type": "stream",
          "name": "stdout",
          "text": [
            "Погрешность конечно-разностного метода относительно точного решения: 0.03159954675166293\n",
            "\n",
            "Погрешность по Рунге-Ромбергу-Ридчардсону конечно-разностного метода: 0.007946128698370775\n"
          ]
        }
      ]
    },
    {
      "cell_type": "code",
      "source": [
        "plt.figure(figsize=(10,7))\n",
        "plt.title('Razn')\n",
        "plt.plot(xarr, ylist)\n",
        "plt.scatter(x1, y1)\n",
        "plt.legend(['y(x)', 'y'])\n",
        "plt.grid()\n",
        "plt.show()"
      ],
      "metadata": {
        "colab": {
          "base_uri": "https://localhost:8080/",
          "height": 444
        },
        "id": "yDcBdKFF0Oso",
        "outputId": "5f4d28f6-b475-4fa3-dd9a-d45f37b84c3c"
      },
      "execution_count": 30,
      "outputs": [
        {
          "output_type": "display_data",
          "data": {
            "text/plain": [
              "<Figure size 720x504 with 1 Axes>"
            ],
            "image/png": "[encoded data removed]"
          },
          "metadata": {
            "needs_background": "light"
          }
        }
      ]
    }
  ]
}