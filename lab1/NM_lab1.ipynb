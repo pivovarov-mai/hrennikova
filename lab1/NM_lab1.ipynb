{
  "cells": [
    {
      "cell_type": "markdown",
      "id": "5ca4481d",
      "metadata": {
        "id": "5ca4481d"
      },
      "source": [
        "# Лабораторная работа №1\n",
        "# по численным методам\n",
        "## Выполнила: Хренникова Ангелина \n",
        "## Группа: М8О-308Б-19\n",
        "### Вариант: 20"
      ]
    },
    {
      "cell_type": "markdown",
      "id": "b3b6a132",
      "metadata": {
        "id": "b3b6a132"
      },
      "source": [
        "### Задача: Реализовать алгоритм LU -  разложения матриц (с выбором главного элемента) в виде программы. Используя разработанное программное обеспечение, решить систему линейных алгебраических уравнений (СЛАУ). Для матрицы СЛАУ вычислить определитель и обратную матрицу. "
      ]
    },
    {
      "cell_type": "code",
      "execution_count": null,
      "id": "204fd65d",
      "metadata": {
        "id": "204fd65d"
      },
      "outputs": [],
      "source": [
        "from sys import stdin\n",
        "from copy import deepcopy\n",
        "\n",
        "import numpy as np\n",
        "import math\n",
        "import copy\n",
        "import cmath"
      ]
    },
    {
      "cell_type": "code",
      "execution_count": null,
      "id": "75c4de2e",
      "metadata": {
        "id": "75c4de2e"
      },
      "outputs": [],
      "source": [
        "class Matrix:\n",
        "    \n",
        "    #Инициализация матрицы\n",
        "    def __init__(self, matrix):\n",
        "        self.matrix = deepcopy(matrix)\n",
        "        self.size = self._Size()\n",
        "        \n",
        "    #Печать    \n",
        "    def __str__(self):\n",
        "        return '\\n'.join([''.join(['%f\\t' % i for i in row]) for\n",
        "                          row in self.matrix])\n",
        "    \n",
        "    #Доступ к элементу\n",
        "    def __getitem__(self, index):\n",
        "        return self.matrix[index]\n",
        "    \n",
        "    #Размер матрицы\n",
        "    def _Size(self):\n",
        "        rows = len(self.matrix)\n",
        "        cols = 0\n",
        "        for row in self.matrix:\n",
        "            if (type(row) == int) | (type(row) == float):\n",
        "                break\n",
        "            if len(row) > cols:\n",
        "                cols = len(row)\n",
        "        return (rows, cols)\n",
        "    \n",
        "    #Алгоритм Дулиттла для получения ЛУ разложения\n",
        "    def Get_LU_Doolittle(self):\n",
        "        if self.size[0] != self.size[1]:\n",
        "            raise Exception(\"Матрица должна быть квадратной\")\n",
        "            \n",
        "        n = self.size[0]\n",
        "        \n",
        "        mat = np.zeros((n, n), float)\n",
        "        U = Matrix(mat)\n",
        "        L = Matrix(mat)\n",
        "        \n",
        "        for i in range(n):\n",
        "            for k in range(i, n): \n",
        "                sum = 0;\n",
        "                for j in range(i):\n",
        "                    sum += (L.matrix[i][j] * U.matrix[j][k]);\n",
        "\n",
        "                U.matrix[i][k] = self.matrix[i][k] - sum;\n",
        "\n",
        "            for k in range(i, n):\n",
        "                if (i == k):\n",
        "                    L.matrix[i][i] = 1;\n",
        "                else:\n",
        "                    sum = 0;\n",
        "                    for j in range(i):\n",
        "                        sum += (L.matrix[k][j] * U.matrix[j][i]);\n",
        "\n",
        "                    L.matrix[k][i] = (self.matrix[k][i] - sum) / U.matrix[i][i];\n",
        "        \n",
        "        return L, U\n",
        "\n",
        "    #ЛУП разложение с выбором максимального элемента\n",
        "    def Get_LUP(self):\n",
        "        if self.size[0] != self.size[1]:\n",
        "            raise Exception(\"Матрица должна быть квадратной\")\n",
        "            \n",
        "        n = self.size[0]\n",
        "        P = [i for i in range(n)]\n",
        "        mat = np.zeros((n, n), float)\n",
        "        LU = Matrix(mat)\n",
        "        \n",
        "        for i in range(n):\n",
        "            for j in range(n):\n",
        "                LU.matrix[i][j] = self.matrix[i][j]\n",
        "      \n",
        "        for k in range(n):\n",
        "            main_elem = 0\n",
        "            for i in range(k, n):\n",
        "                if (abs(self[i][k]) > main_elem):\n",
        "                    main_elem = abs(self[i][k])\n",
        "                    row = i\n",
        "            if (main_elem == 0):\n",
        "                raise Exception('Столбец нулевой')\n",
        "                \n",
        "            P[k], P[row] = P[row], P[k]\n",
        "\n",
        "            for i in range(n):\n",
        "                LU.matrix[k][i], LU.matrix[row][i] = LU.matrix[row][i], LU.matrix[k][i]\n",
        "            for i in range(k + 1, n):\n",
        "                LU.matrix[i][k] /= LU.matrix[k][k]\n",
        "                for j in range(k + 1, n):\n",
        "                    LU.matrix[i][j] -= LU.matrix[i][k] * LU.matrix[k][j]\n",
        "      \n",
        "        return LU, P, main_elem\n",
        "    \n",
        "    #ЛУ разложение\n",
        "    def Get_LU(self):\n",
        "        if self.size[0] != self.size[1]:\n",
        "            raise Exception(\"Матрица должна быть квадратной\")\n",
        "            \n",
        "        n = self.size[0]\n",
        "        \n",
        "        mat = np.zeros((n, n), float)\n",
        "        U = Matrix(mat)\n",
        "        L = Matrix(mat)\n",
        "        LU, P, p = self.Get_LUP()\n",
        "        \n",
        "        for i in range(n):\n",
        "            L.matrix[i][i] = 1\n",
        "            for j in range(n):\n",
        "                if (j < i):\n",
        "                    L.matrix[i][j] = LU.matrix[i][j]\n",
        "                else:\n",
        "                    U.matrix[i][j] = LU.matrix[i][j]\n",
        "                    \n",
        "        return L, U\n",
        "    \n",
        "    #Определитель\n",
        "    def Det(self):\n",
        "        if self.size[0] != self.size[1]:\n",
        "            raise Exception(\"Матрица должна быть квадратной\")\n",
        "        n = self.size[0]\n",
        "        L, U = self.Get_LU()\n",
        "        LU, P, p = self.Get_LUP()\n",
        "        det = pow(-1, p)\n",
        "        for k in range(n):\n",
        "            det *= U.matrix[k][k]\n",
        "        return det\n",
        "    \n",
        "    def Multiply(n, m):\n",
        "        if n.size[1] != m.size[0]:\n",
        "            raise Exception(\"Несоответствие размерностей\")\n",
        "        res = []\n",
        "        rows = []\n",
        "        for i in range(n.size[0]):\n",
        "            for j in range(m.size[1]):\n",
        "                val = 0\n",
        "                for k in range(n.size[1]):\n",
        "                    val += n.matrix[i][k] * m.matrix[k][j]                \n",
        "                rows.append(val)    \n",
        "            res.append(rows)\n",
        "            rows = []\n",
        "        return Matrix(res)\n",
        "    \n",
        "    def Sum(self, m):\n",
        "        if self.size != m.size:\n",
        "            raise Exception(\"Несоответствие размерностей: {0} {1}\".format(self.size, m.size))\n",
        "        res = []\n",
        "        rows = []\n",
        "        for i, row in enumerate(self.matrix):\n",
        "            for j, col in enumerate(row):\n",
        "                rows.append(self.matrix[i][j] + m.matrix[i][j])    \n",
        "            res.append(rows)\n",
        "            rows = []\n",
        "        return Matrix(res)\n",
        "    \n",
        "    def MultiNum(self, n):\n",
        "        res = []\n",
        "        rows = []\n",
        "        for i, row in enumerate(self.matrix):\n",
        "            for j, col in enumerate(row):\n",
        "                rows.append(n * self.matrix[i][j])    \n",
        "            res.append(rows)\n",
        "            rows = []\n",
        "        return Matrix(res)\n",
        "    \n",
        "    def Transpose(self):\n",
        "        res = self\n",
        "        if self.size[0] == self.size[1]:\n",
        "            for i in range(self.size[0]):\n",
        "                for j in range(i + 1, self.size[0]):\n",
        "                    a = res.matrix[i][j]\n",
        "                    res.matrix[i][j] = res.matrix[j][i]\n",
        "                    res.matrix[j][i] = a\n",
        "                    a = 0\n",
        "            return res\n",
        "        else:\n",
        "            res = []            \n",
        "            for i in range(self.size[1]):\n",
        "                rows = []\n",
        "                for j in range(self.size[0]):\n",
        "                    rows.append(self.matrix[j][i])\n",
        "                res.append(rows)\n",
        "            return Matrix(res)\n",
        "    \n",
        "    #Обратная матрица\n",
        "    def Invert(self):\n",
        "        if self.size[0] != self.size[1]:\n",
        "            raise Exception(\"Матрица должна быть квадратной\")\n",
        "            \n",
        "        n = self.size[0]\n",
        "        mat = np.zeros((n, n), float)\n",
        "        res = Matrix(mat)\n",
        "        for k in range(n):\n",
        "            x = get_solution(self, e(k, self.size[0]))\n",
        "            for i in range(n):\n",
        "                res.matrix[i][k] = x[i]\n",
        "        \n",
        "        return res\n",
        "\n",
        "#Вектор с одной единицей и остальными нулями\n",
        "def e(i, n):\n",
        "    e = []\n",
        "    for j in range(n):\n",
        "        if j == i:\n",
        "            e.append(1)\n",
        "        else:\n",
        "            e.append(0)\n",
        "    return e"
      ]
    },
    {
      "cell_type": "code",
      "execution_count": null,
      "id": "8d34f0aa",
      "metadata": {
        "id": "8d34f0aa"
      },
      "outputs": [],
      "source": [
        "#Решение \n",
        "def get_solution(A, b):\n",
        "    L, U = A.Get_LU()\n",
        "    LU, P, p = A.Get_LUP()\n",
        "\n",
        "    n = A.size[0]\n",
        "    x = [0] * n\n",
        "    y = [0] * n\n",
        "\n",
        "    #Ly = b\n",
        "    for i in range(n):\n",
        "        sum = 0\n",
        "        for j in range(i):\n",
        "            sum += L.matrix[i][j] * y[j]\n",
        " \n",
        "        y[i] = b[P[i]] - sum\n",
        "\n",
        "    #Ux = y\n",
        "    for i in range(n - 1, -1, -1):\n",
        "        sum = 0\n",
        "        for j in range(i + 1, n):\n",
        "            sum += U.matrix[i][j] * x[j]\n",
        " \n",
        "        x[i] = (y[i] - sum) / U.matrix[i][i]\n",
        "      \n",
        "    return x"
      ]
    },
    {
      "cell_type": "code",
      "execution_count": null,
      "id": "6ebcedf1",
      "metadata": {
        "id": "6ebcedf1",
        "outputId": "fa94f0ac-a2da-4e3e-9bc0-4ff44fc99996",
        "colab": {
          "base_uri": "https://localhost:8080/"
        }
      },
      "outputs": [
        {
          "output_type": "stream",
          "name": "stdout",
          "text": [
            "Result: [-3.999999999999998, -5.0, -7.0, 5.000000000000002]\n"
          ]
        }
      ],
      "source": [
        "A = Matrix([[7, 8, 4, -6], [-1, 6, -2, -6], [2, 9, 6, -4], [5, 9, 1, 1]])\n",
        "B = [-126, -42, -115, -67]\n",
        "print(\"Result: {}\".format(get_solution(A, B)))"
      ]
    },
    {
      "cell_type": "code",
      "execution_count": null,
      "id": "28fe0525",
      "metadata": {
        "id": "28fe0525",
        "outputId": "81794707-22d8-41b3-e3df-05239d85d306",
        "colab": {
          "base_uri": "https://localhost:8080/"
        }
      },
      "outputs": [
        {
          "output_type": "execute_result",
          "data": {
            "text/plain": [
              "2865.9999999999995"
            ]
          },
          "metadata": {},
          "execution_count": 5
        }
      ],
      "source": [
        "A.Det()"
      ]
    },
    {
      "cell_type": "code",
      "execution_count": null,
      "id": "923de9f0",
      "metadata": {
        "id": "923de9f0",
        "outputId": "cf6550a3-6dac-4616-b958-f91e4c31cb0f",
        "colab": {
          "base_uri": "https://localhost:8080/"
        }
      },
      "outputs": [
        {
          "output_type": "stream",
          "name": "stdout",
          "text": [
            "Result:\n",
            "7.000000\t8.000000\t4.000000\t-6.000000\t\n",
            "2.000000\t9.000000\t6.000000\t-4.000000\t\n",
            "-1.000000\t6.000000\t-2.000000\t-6.000000\t\n",
            "5.000000\t9.000000\t1.000000\t1.000000\t\n"
          ]
        }
      ],
      "source": [
        "L, U = A.Get_LU()\n",
        "print(\"Result:\\n{}\".format(L.Multiply(U)))"
      ]
    },
    {
      "cell_type": "code",
      "execution_count": null,
      "id": "f8067fb9",
      "metadata": {
        "id": "f8067fb9",
        "outputId": "d112aff1-7ec8-4bc2-c802-60d81ef5843c",
        "colab": {
          "base_uri": "https://localhost:8080/"
        }
      },
      "outputs": [
        {
          "output_type": "stream",
          "name": "stdout",
          "text": [
            "Result:\n",
            "0.146546\t-0.059316\t-0.122819\t0.032100\t\n",
            "-0.070482\t0.052338\t0.049546\t0.089323\t\n",
            "-0.005234\t-0.105024\t0.147244\t-0.072575\t\n",
            "-0.093161\t-0.069435\t0.020935\t0.108165\t\n"
          ]
        }
      ],
      "source": [
        "print(\"Result:\\n{}\".format(A.Invert()))"
      ]
    },
    {
      "cell_type": "markdown",
      "id": "62423927",
      "metadata": {
        "id": "62423927"
      },
      "source": [
        "### Задача: Реализовать метод прогонки в виде программы, задавая в качестве входных данных ненулевые элементы матрицы системы и вектор правых частей. Используя разработанное программное обеспечение, решить СЛАУ с трехдиагональной матрицей. "
      ]
    },
    {
      "cell_type": "code",
      "execution_count": null,
      "id": "d84688cf",
      "metadata": {
        "id": "d84688cf"
      },
      "outputs": [],
      "source": [
        "#Метод прогонки\n",
        "def Progonka(A, b):\n",
        "    n = A.size[0]\n",
        "    \n",
        "    x = [0 for k in range(0, n)] \n",
        "    v = [0 for k in range(0, n)]\n",
        "    u = [0 for k in range(0, n)]\n",
        "    \n",
        "    v[0] = A.matrix[0][1] / (-1 * A.matrix[0][0]) \n",
        "    u[0] = (-1 * b.matrix[0]) / (-1 * A.matrix[0][0])\n",
        "    \n",
        "    for i in range(1, n - 1): \n",
        "        v[i] = A.matrix[i][i+1] / ( -1 * A.matrix[i][i] - A.matrix[i][i-1] * v[i-1])\n",
        "        u[i] = (A.matrix[i][i-1] * u[i-1] - b.matrix[i]) / (-1 * A.matrix[i][i] - A.matrix[i][i-1] * v[i-1])\n",
        "\n",
        "    v[n-1] = 0\n",
        "    u[n-1] = (A.matrix[n-1][n-2] * u[n-2] - b.matrix[n-1]) / (-1 * A.matrix[n-1][n-1] - A.matrix[n-1][n-2] * v[n-2])\n",
        "    \n",
        "    x[n-1] = u[n-1]\n",
        "    for i in range(n-1, 0, -1):\n",
        "        x[i-1] = v[i-1] * x[i] + u[i-1]\n",
        "        \n",
        "    print(\"v:\\n{}\".format(v))\n",
        "    print(\"u:\\n{}\".format(u))\n",
        "        \n",
        "    return x    "
      ]
    },
    {
      "cell_type": "code",
      "execution_count": null,
      "id": "175cc766",
      "metadata": {
        "id": "175cc766",
        "outputId": "ee5aa242-0486-4f01-a099-b97cf44a3a74",
        "colab": {
          "base_uri": "https://localhost:8080/"
        }
      },
      "outputs": [
        {
          "output_type": "stream",
          "name": "stdout",
          "text": [
            "v:\n",
            "[1.0, 0.5833333333333334, -0.675, -0.2850356294536817, 0]\n",
            "u:\n",
            "[-5.0, -1.75, 7.050000000000001, 7.425178147268409, 5.0]\n"
          ]
        },
        {
          "output_type": "execute_result",
          "data": {
            "text/plain": [
              "[-5.0, 0.0, 3.0, 6.0, 5.0]"
            ]
          },
          "metadata": {},
          "execution_count": 9
        }
      ],
      "source": [
        "A = Matrix([[-6, 6, 0, 0, 0], [2, 10, -7, 0, 0], [0, -8, 18, 9, 0], [0, 0, 6, -17, -6], [0, 0, 0, 9, 14]])\n",
        "b = Matrix([30, -31, 108, -114, 124])\n",
        "Progonka(A, b)"
      ]
    },
    {
      "cell_type": "markdown",
      "id": "299dffcf",
      "metadata": {
        "id": "299dffcf"
      },
      "source": [
        "### Задача: Реализовать метод простых итераций и метод Зейделя в виде программ, задавая в качестве входных данных матрицу системы, вектор правых частей и точность вычислений. Используя разработанное программное обеспечение, решить СЛАУ. Проанализировать количество итераций, необходимое для достижения заданной точности."
      ]
    },
    {
      "cell_type": "code",
      "execution_count": null,
      "id": "79d0b473",
      "metadata": {
        "id": "79d0b473"
      },
      "outputs": [],
      "source": [
        "#Метод простых итераций\n",
        "def Iter(A, b, eps):\n",
        "    t = True\n",
        "    n = A.size[0]\n",
        "    x = [0 for k in range(n)]\n",
        "    x_ = [0 for k in range(n)]\n",
        "    num_it = 0\n",
        "    while (t):\n",
        "        for i in range(n):\n",
        "            s = 0\n",
        "            for j in range(n):\n",
        "                if (i != j):\n",
        "                    s += A.matrix[i][j] * x[j]\n",
        "            x_[i] = (b[i] - s) / A.matrix[i][i]\n",
        "        num_it += 1\n",
        "        \n",
        "        if (x_[0] == None):\n",
        "             t = False\n",
        "        res = [0 for k in range(n)]\n",
        "        \n",
        "        for i in range(n):\n",
        "            res[i] = pow(x[i] - x_[i],2)\n",
        "            \n",
        "        if (math.sqrt(sum(res)) > eps):\n",
        "             t = True\n",
        "        else: t = False\n",
        "                \n",
        "        x = copy.copy(x_)\n",
        "    return x_, num_it"
      ]
    },
    {
      "cell_type": "code",
      "execution_count": null,
      "id": "fd77a91c",
      "metadata": {
        "id": "fd77a91c"
      },
      "outputs": [],
      "source": [
        "A = Matrix([[10, -1, -2, 5], [4, 28, 7, 9], [6, 5, -23, 4], [1, 4, 5, -15]])\n",
        "B = [-99, 0, 67, 58]"
      ]
    },
    {
      "cell_type": "code",
      "execution_count": null,
      "id": "f737cca5",
      "metadata": {
        "id": "f737cca5",
        "outputId": "ca4b218a-c3ca-4373-def2-f5ece93cecd3",
        "colab": {
          "base_uri": "https://localhost:8080/"
        }
      },
      "outputs": [
        {
          "output_type": "execute_result",
          "data": {
            "text/plain": [
              "([-8.000013559736155,\n",
              "  3.999973220901675,\n",
              "  -4.999995764128967,\n",
              "  -4.999989701911018],\n",
              " 16)"
            ]
          },
          "metadata": {},
          "execution_count": 12
        }
      ],
      "source": [
        "x, it = Iter(A, B, 0.0001)\n",
        "x,it"
      ]
    },
    {
      "cell_type": "code",
      "execution_count": null,
      "id": "ebfaa0cc",
      "metadata": {
        "id": "ebfaa0cc"
      },
      "outputs": [],
      "source": [
        "#Метод Зейделя\n",
        "def Zeydel(A, b, eps):\n",
        "    t = True\n",
        "    num_it = 0\n",
        "    n = A.size[0]\n",
        "    x = [0 for i in range(n)]\n",
        "    x_ = [0 for i in range(n)]\n",
        "    while (t):\n",
        "        for i in range(n):\n",
        "            s = 0\n",
        "            for j in range(n):\n",
        "                if (j < i):\n",
        "                    s += A.matrix[i][j] * x_[j]\n",
        "                    \n",
        "                elif i != j:\n",
        "                    s += A.matrix[i][j] * x[j]\n",
        "                    \n",
        "            x_[i] = (b[i] - s) / A[i][i]\n",
        "            \n",
        "        num_it += 1\n",
        "        \n",
        "        if (x_[0] == None):\n",
        "             t = False\n",
        "        res = [0 for k in range(n)]\n",
        "        \n",
        "        for i in range(n):\n",
        "            res[i] = pow(x[i] - x_[i],2)\n",
        "            \n",
        "        if (math.sqrt(sum(res)) > eps):\n",
        "             t = True\n",
        "        else: t = False\n",
        "        \n",
        "        x = copy.copy(x_)\n",
        "    return x_, num_it"
      ]
    },
    {
      "cell_type": "code",
      "execution_count": null,
      "id": "3119b6c3",
      "metadata": {
        "id": "3119b6c3",
        "outputId": "e596b54f-1ba3-4ce2-f475-91f0d08110e9",
        "colab": {
          "base_uri": "https://localhost:8080/"
        }
      },
      "outputs": [
        {
          "output_type": "execute_result",
          "data": {
            "text/plain": [
              "([-7.999999424480523,\n",
              "  3.999999158869865,\n",
              "  -5.00000016872013,\n",
              "  -5.0000002421734475],\n",
              " 7)"
            ]
          },
          "metadata": {},
          "execution_count": 14
        }
      ],
      "source": [
        "x, it = Zeydel(A, B, 0.0001)\n",
        "x,it"
      ]
    },
    {
      "cell_type": "markdown",
      "id": "0150888c",
      "metadata": {
        "id": "0150888c"
      },
      "source": [
        "### Задача: Реализовать метод вращений в виде программы, задавая в качестве входных данных матрицу и точность вычислений. Используя разработанное программное обеспечение, найти собственные значения и собственные векторы симметрических матриц. Проанализировать зависимость погрешности вычислений от числа итераций. "
      ]
    },
    {
      "cell_type": "code",
      "execution_count": null,
      "id": "483d16e9",
      "metadata": {
        "id": "483d16e9"
      },
      "outputs": [],
      "source": [
        "A = Matrix([[-7, -9, 1], [-9, 7, 2], [1, 2, 9]])"
      ]
    },
    {
      "cell_type": "code",
      "execution_count": null,
      "id": "c060f3a8",
      "metadata": {
        "id": "c060f3a8"
      },
      "outputs": [],
      "source": [
        "def t(A):\n",
        "    a = 0\n",
        "    for l in range(A.size[0]):\n",
        "        for m in range(l + 1, A.size[0]):\n",
        "            a += A.matrix[l][m] * A.matrix[l][m]\n",
        "    a = math.sqrt(a)\n",
        "    return a"
      ]
    },
    {
      "cell_type": "code",
      "execution_count": null,
      "id": "75ad0536",
      "metadata": {
        "id": "75ad0536"
      },
      "outputs": [],
      "source": [
        "def max_ij(A):\n",
        "    if (A.size[0] != A.size[1]):\n",
        "        raise Exception(\"Матрица должна быть квадратной\")\n",
        "        \n",
        "    m = 0\n",
        "    i = 0\n",
        "    j = 0\n",
        "    f = 0\n",
        "    n = A.size[0]\n",
        "    for k in range(n):\n",
        "        for g in range(n):\n",
        "            if ((abs(A.matrix[k][g]) > m or abs(A.matrix[k][g]) == 0) and k < g):\n",
        "                i = k\n",
        "                j = g\n",
        "                m = abs(A.matrix[k][g])\n",
        "                f = A.matrix[k][g]\n",
        "                \n",
        "    if ((i == 0) and (j == 0)):\n",
        "        raise Exception(\"Матрица вырожденная\")\n",
        "    return i, j, f"
      ]
    },
    {
      "cell_type": "code",
      "execution_count": null,
      "id": "f603b1d0",
      "metadata": {
        "id": "f603b1d0"
      },
      "outputs": [],
      "source": [
        "def Multiply(n, m):\n",
        "    if n.size[1] != m.size[0]:\n",
        "        raise Exception(\"Несоответствие размерностей\")\n",
        "    res = []\n",
        "    rows = []\n",
        "    for i in range(n.size[0]):\n",
        "        for j in range(m.size[1]):\n",
        "            val = 0\n",
        "            for k in range(n.size[1]):\n",
        "                val += n.matrix[i][k] * m.matrix[k][j]                \n",
        "            rows.append(val)    \n",
        "        res.append(rows)\n",
        "        rows = []\n",
        "    return Matrix(res)\n",
        "\n",
        "def Rotation(M, eps):\n",
        "    Ak = M\n",
        "    num_it = 0\n",
        "    e = t(M)\n",
        "    n = M.size[0]\n",
        "    while e > eps:\n",
        "        mat = np.zeros((n, n), float)\n",
        "        R = Matrix(mat)\n",
        "        num_it += 1\n",
        "        i, j, m = max_ij(Ak)\n",
        "        if (Ak.matrix[i][i] - Ak.matrix[j][j] != 0):\n",
        "            phi = math.atan((2 * Ak.matrix[i][j]) / (Ak.matrix[i][i] - Ak.matrix[j][j])) / 2\n",
        "        else:\n",
        "            phi = math.pi / 4\n",
        "        for r in range(Ak.size[0]):\n",
        "            for c in range(Ak.size[0]):\n",
        "                if r == c:\n",
        "                    R.matrix[r][c] = 1\n",
        "        c1 = math.cos(phi)\n",
        "        s1 = math.sin(phi)\n",
        "        R.matrix[i][i] = c1\n",
        "        R.matrix[i][j] = -s1\n",
        "        R.matrix[j][i] = s1\n",
        "        R.matrix[j][j] = c1\n",
        "            \n",
        "        F = Multiply(Ak, R)\n",
        "        T = copy.deepcopy(R)\n",
        "        Ak = Multiply((R.Transpose()), F)\n",
        "        e = t(Ak)\n",
        "    res = []\n",
        "    for l in range(Ak.size[0]):\n",
        "        res.append(Ak.matrix[l][l])\n",
        "        \n",
        "    print(\"Iter:\", num_it)\n",
        "    print(\"Res:\", res)"
      ]
    },
    {
      "cell_type": "code",
      "execution_count": null,
      "id": "d5ee5125",
      "metadata": {
        "id": "d5ee5125",
        "outputId": "74275d3d-e44b-4eb5-e9b3-6e9596a2591a",
        "colab": {
          "base_uri": "https://localhost:8080/"
        }
      },
      "outputs": [
        {
          "output_type": "stream",
          "name": "stdout",
          "text": [
            "Iter: 5\n",
            "Res: [-11.555975526027277, 12.036590138386002, 8.519385387641274]\n"
          ]
        }
      ],
      "source": [
        "Rotation(A, 0.01)"
      ]
    },
    {
      "cell_type": "markdown",
      "id": "26e7ef73",
      "metadata": {
        "id": "26e7ef73"
      },
      "source": [
        "### Задача: Реализовать алгоритм QR – разложения матриц в виде программы. На его основе разработать программу, реализующую QR – алгоритм решения полной проблемы собственных значений произвольных матриц, задавая в качестве входных данных матрицу и точность вычислений. С использованием разработанного программного обеспечения найти собственные значения матрицы."
      ]
    },
    {
      "cell_type": "code",
      "execution_count": null,
      "id": "e54ebddd",
      "metadata": {
        "id": "e54ebddd"
      },
      "outputs": [],
      "source": [
        "A = Matrix([[6, 5, -6], [4, -6, 9], [-6, 6, 1]])"
      ]
    },
    {
      "cell_type": "code",
      "execution_count": null,
      "id": "ac70ceb7",
      "metadata": {
        "id": "ac70ceb7"
      },
      "outputs": [],
      "source": [
        "def Householder(v):\n",
        "    n = len(v)\n",
        "    v1 = []    \n",
        "    for i in range(n):\n",
        "        rows = []\n",
        "        for j in range(n):\n",
        "            rows.append(v[i] * v[j])\n",
        "        v1.append(rows)\n",
        "    v2 = 0\n",
        "    mat = np.eye(n)\n",
        "    E= Matrix(mat)\n",
        "    for i in range(n):\n",
        "        v2 += v[i] * v[i]\n",
        "    return E.Sum(Matrix(v1).MultiNum(-2 / v2))"
      ]
    },
    {
      "cell_type": "code",
      "source": [
        "def H(v):\n",
        "    v1 = []    \n",
        "    for i in range(len(v)):\n",
        "        rows = []\n",
        "        for j in range(len(v)):\n",
        "            rows.append(v[i] * v[j])\n",
        "        v1.append(rows)\n",
        "    v2 = 0\n",
        "    for i in range(len(v)):\n",
        "        v2 += v[i] * v[i]\n",
        "    return Matrix.E(len(v)).Sum(Matrix(v1).MultiNum(-2 / v2))"
      ],
      "metadata": {
        "id": "F2SMXRnEtR3T"
      },
      "id": "F2SMXRnEtR3T",
      "execution_count": null,
      "outputs": []
    },
    {
      "cell_type": "code",
      "execution_count": null,
      "id": "ad16b046",
      "metadata": {
        "id": "ad16b046"
      },
      "outputs": [],
      "source": [
        "def sign(x):\n",
        "    return -1 if x < 0 else 1 if x > 0 else 0\n",
        "\n",
        "\n",
        "def get_QR(A):\n",
        "    n = A.size[0]\n",
        "    mat = np.eye(n)\n",
        "    Q = Matrix(mat)\n",
        "    Ak = A\n",
        "\n",
        "    for i in range(n):\n",
        "        v = []\n",
        "        for j in range(n):\n",
        "            if j < i:\n",
        "                v.append(0)\n",
        "            elif i == j:\n",
        "                a = 0\n",
        "                for k in range(n):\n",
        "                    a += Ak.matrix[k][i] * Ak.matrix[k][i]\n",
        "                v.append(Ak.matrix[j][i] + sign(Ak.matrix[j][i]) * math.sqrt(a))\n",
        "            else:\n",
        "                v.append(A.matrix[j][i])\n",
        "        Ak = Householder(v).Multiply(Ak)\n",
        "        Q = Q.Multiply(Householder(v))\n",
        "    return Q, Ak"
      ]
    },
    {
      "cell_type": "code",
      "execution_count": null,
      "id": "1a95974a",
      "metadata": {
        "colab": {
          "base_uri": "https://localhost:8080/"
        },
        "id": "1a95974a",
        "outputId": "8f4e4cfd-7ba1-4072-ddc7-5447e490bef6"
      },
      "outputs": [
        {
          "output_type": "stream",
          "name": "stdout",
          "text": [
            "Q:\n",
            " -0.639602\t0.739176\t-0.211015\t\n",
            "-0.426401\t-0.569562\t-0.702696\t\n",
            "0.639602\t0.359469\t-0.679479\t\n",
            "R:\n",
            " -9.380832\t3.198011\t0.639602\t\n",
            "0.000000\t9.270064\t-9.201645\t\n",
            "-0.000000\t-0.915773\t-5.737650\t\n",
            "A = QR = \n",
            " 6.000000\t5.000000\t-6.000000\t\n",
            "4.000000\t-6.000000\t9.000000\t\n",
            "-6.000000\t6.000000\t1.000000\t\n"
          ]
        }
      ],
      "source": [
        "Q, R = get_QR(A)\n",
        "print(\"Q:\\n {}\".format(Q))\n",
        "print(\"R:\\n {}\".format(R))\n",
        "print(\"A = QR = \\n {}\".format(Q.Multiply(R)))"
      ]
    },
    {
      "cell_type": "code",
      "execution_count": null,
      "id": "d501bb09",
      "metadata": {
        "id": "d501bb09"
      },
      "outputs": [],
      "source": [
        "def eps_2(A, k):\n",
        "    e = 0\n",
        "    for l in range(k + 1, A.size[0]):\n",
        "        e += A.matrix[l][k] * A.matrix[l][k]\n",
        "    e = math.sqrt(e)\n",
        "    return e\n",
        "\n",
        "def eps_1(A, k):\n",
        "    e = 0\n",
        "    for l in range(k + 2, A.size[0]):\n",
        "        e += A.matrix[l][k] * A.matrix[l][k]\n",
        "    e = math.sqrt(e)\n",
        "    return e\n",
        "\n",
        "def eps_l(l):\n",
        "    return abs(l)"
      ]
    },
    {
      "cell_type": "code",
      "execution_count": null,
      "id": "c74f6ea8",
      "metadata": {
        "id": "c74f6ea8"
      },
      "outputs": [],
      "source": [
        "def solve_lambda(A, k):\n",
        "    b = A.matrix[k][k] + A.matrix[k + 1][k + 1]\n",
        "    c = A.matrix[k][k] * A.matrix[k + 1][k + 1] - A.matrix[k][k + 1] * A.matrix[k + 1][k]\n",
        "    d = b * b - 4 * c\n",
        "    \n",
        "    return complex((complex(-b) + cmath.sqrt(d)) / complex(2)), complex((complex(-b) - cmath.sqrt(d)) / complex(2))"
      ]
    },
    {
      "cell_type": "code",
      "execution_count": null,
      "id": "4810a01d",
      "metadata": {
        "id": "4810a01d"
      },
      "outputs": [],
      "source": [
        "def QR_values(A, eps=0.01):\n",
        "    if A.size[0] != A.size[1]:\n",
        "        raise Exception(\"Матрица должна быть квадратной\")\n",
        "    it = 0\n",
        "    Q, R = get_QR(A)\n",
        "    res = []\n",
        "    cmplx = False\n",
        "    for k in range(A.size[0]):\n",
        "        if cmplx == True:\n",
        "            cmplx = False\n",
        "            continue\n",
        "        it += 1\n",
        "        cmplx = False\n",
        "        Ak = R.Multiply(Q)\n",
        "        e_1 = eps_1(Ak, k)\n",
        "        e_2 = eps_2(Ak, k)\n",
        "        count = 0\n",
        "        while e_1 > eps:\n",
        "            it += 1\n",
        "            Q, R = get_QR(Ak)\n",
        "            Ak = R.Multiply(Q)\n",
        "            e_1 = eps_1(Ak, k)            \n",
        "        \n",
        "            l_1, l_2 = solve_lambda(Ak, k) \n",
        "            \n",
        "        while e_2 > eps:\n",
        "            count += 1           \n",
        "            it += 1\n",
        "            \n",
        "            Q, R = get_QR(Ak)\n",
        "            Ak = R.Multiply(Q)\n",
        "            e_2 = eps_2(Ak, k)\n",
        "            \n",
        "            lk_1, lk_2 = solve_lambda(Ak, k)\n",
        "            \n",
        "            e_l_1 = eps_l(l_1 - lk_1)\n",
        "            e_l_2 = eps_l(l_2 - lk_2)\n",
        "            \n",
        "            l_1 = lk_1\n",
        "            l_2 = lk_2\n",
        "            if count > 100:\n",
        "                cmplx = True\n",
        "                while (e_l_1 > eps) & (e_l_2 > eps):\n",
        "                    it += 1\n",
        "                    lk_1, lk_2 = solve_lambda(Ak, k)\n",
        "                    \n",
        "                    e_l_1 = eps_l(l_1 - lk_1)\n",
        "                    e_l_2 = eps_l(l_2 - lk_2)\n",
        "                    \n",
        "                    l_1 = lk_1\n",
        "                    l_2 = lk_2\n",
        "                break\n",
        "        \n",
        "        if cmplx == True:\n",
        "            res.append(l_1)\n",
        "            res.append(l_2)\n",
        "        else:\n",
        "            res.append(Ak.matrix[k][k])\n",
        "                \n",
        "    print(\"Result: {}\".format(res))\n",
        "    print(\"Iterations: {}\".format(it))"
      ]
    },
    {
      "cell_type": "code",
      "execution_count": null,
      "id": "e96bfa3d",
      "metadata": {
        "colab": {
          "base_uri": "https://localhost:8080/"
        },
        "id": "e96bfa3d",
        "outputId": "7cbcc0ef-11ed-4bd6-dbc2-ce9e1984a7f8"
      },
      "outputs": [
        {
          "output_type": "stream",
          "name": "stdout",
          "text": [
            "Result: [-13.27548089985948, 9.86073051001206, 4.414750389847406]\n",
            "Iterations: 32\n"
          ]
        }
      ],
      "source": [
        "QR_values(A)"
      ]
    }
  ],
  "metadata": {
    "kernelspec": {
      "display_name": "Python 3 (ipykernel)",
      "language": "python",
      "name": "python3"
    },
    "language_info": {
      "codemirror_mode": {
        "name": "ipython",
        "version": 3
      },
      "file_extension": ".py",
      "mimetype": "text/x-python",
      "name": "python",
      "nbconvert_exporter": "python",
      "pygments_lexer": "ipython3",
      "version": "3.8.10"
    },
    "colab": {
      "name": "NM - lab 1.1.ipynb",
      "provenance": [],
      "collapsed_sections": []
    }
  },
  "nbformat": 4,
  "nbformat_minor": 5
}